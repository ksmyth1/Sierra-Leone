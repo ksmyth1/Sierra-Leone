{
 "cells": [
  {
   "cell_type": "markdown",
   "metadata": {},
   "source": [
    "## Final Project Pt. 2 - Sierra Leone"
   ]
  },
  {
   "cell_type": "markdown",
   "metadata": {},
   "source": [
    "## Aim and Hypothesis"
   ]
  },
  {
   "cell_type": "markdown",
   "metadata": {},
   "source": [
    "* By comparing aid project funding for Sierra Leone between 1992 and 2014, and that country's rankings on HDI indicators for the same time period, I want to see if I can discover any relationships between these two sets off data from a time-series and casuation point of view. "
   ]
  },
  {
   "cell_type": "markdown",
   "metadata": {},
   "source": [
    "* I think this could be an interesting analysis because: (in order of what I consider most likely to least likely), it could indicate that AID funding has an immediate positive effect, or it could indicate AID funding has a delayed positive effiect, or it could indicate AID funding has no clear effect, or it could indicate the AID funding has a negative \n",
    "effect, on a country's performance on HDI indicators over time. If this analysis was on a larger scale and more rigorous, this could provide insight to AID organisations about what sectors to focus on, and when to expect to see results from their AID funding based on historical data"
   ]
  },
  {
   "cell_type": "markdown",
   "metadata": {},
   "source": [
    "- Null hypothesis: There is no relationship between amount spent on projects by year, per sector, and the countries performance on related HDI indicators\n",
    "- Alternative hypothesis: There is some relationship between amount spent on projects by year, and sector, and the relevant countries performance on related HDI indicators"
   ]
  },
  {
   "cell_type": "markdown",
   "metadata": {},
   "source": [
    "## Risks"
   ]
  },
  {
   "cell_type": "markdown",
   "metadata": {},
   "source": [
    "* The data may be too unstructured to analyse in the way I propose \n",
    "* My assumptions about the data may be incorrect or incomplete\n",
    "* The visualizations and conclusions I draw may be misleading if there are problems in the data or the assumptions\n",
    "* There may be no descirnable relationship I can discover between the two data sets\n",
    "* The lack of project funding in the early 90s may skew the regression\n",
    "* The AID dataset may only represent a small part of foreign aid to Sierra Leone and thus will not demonstrate any causal effects on the higher level indicators\n",
    "* There may be a significant time lag between the project funding and the HDI effect that I will not detect.\n",
    "* Though I am enthusatic about AID projects in Africa, having seen some of their beneficial effect in person, I do lack AID domain knowledge, and this may hinder my ability to correctly determine the right analysis to perform \n",
    "* That there are better HDI indicators than the ones I've chosen to obtain relationships with project funding\n",
    "* That there are not enough data points/years for time series to be a valid method of analysis"
   ]
  },
  {
   "cell_type": "markdown",
   "metadata": {},
   "source": [
    "## Assumptions"
   ]
  },
  {
   "cell_type": "markdown",
   "metadata": {},
   "source": [
    "**About the AID project data**\n",
    "* The original data only states the year when the aid transactions for a project began and ended, and the total dibursements overall for the project. I have assumed that the total disbursements for a project occured equally on each year (inclusive) that the project was active. \n",
    "* I have assumed that total disbursements is a better measure of project funding than total commitments.\n",
    "* I have assumed that because there are too many types of 'Sector Names' in the original data set, I can accurately group these projects together by searching the 'Sector Name' for keywords (i.e. any project containing the word 'Health' in the ad_sector_name has been assigned to Health funding, likewise for Agriculture, Government and Education)"
   ]
  },
  {
   "cell_type": "markdown",
   "metadata": {},
   "source": [
    "Data sourced from https://www.aiddata.org/data/sierra-leone-aims-geocoded-research-release-level-1-v1-0\n",
    "\"Summary\n",
    "This is all geocoded projects from the Development Assistance Database (DAD) Aid Information Management System (AIMS) managed for Sierra Leone. This dataset tracks 856 projects across 2314 locations, 3,340,138,954.00 USD in geocoded commitments, and 2,785,175,978.00 USD in geocoded disbursements between 1992 and 2014.\""
   ]
  },
  {
   "cell_type": "code",
   "execution_count": 5,
   "metadata": {},
   "outputs": [
    {
     "data": {
      "text/html": [
       "<div>\n",
       "<style scoped>\n",
       "    .dataframe tbody tr th:only-of-type {\n",
       "        vertical-align: middle;\n",
       "    }\n",
       "\n",
       "    .dataframe tbody tr th {\n",
       "        vertical-align: top;\n",
       "    }\n",
       "\n",
       "    .dataframe thead th {\n",
       "        text-align: right;\n",
       "    }\n",
       "</style>\n",
       "<table border=\"1\" class=\"dataframe\">\n",
       "  <thead>\n",
       "    <tr style=\"text-align: right;\">\n",
       "      <th></th>\n",
       "      <th>project_id</th>\n",
       "      <th>is_geocoded</th>\n",
       "      <th>project_title</th>\n",
       "      <th>start_actual_isodate</th>\n",
       "      <th>start_actual_type</th>\n",
       "      <th>end_actual_isodate</th>\n",
       "      <th>end_actual_type</th>\n",
       "      <th>donors</th>\n",
       "      <th>donors_iso3</th>\n",
       "      <th>recipients</th>\n",
       "      <th>recipients_iso3</th>\n",
       "      <th>ad_sector_codes</th>\n",
       "      <th>ad_sector_names</th>\n",
       "      <th>ad_purpose_codes</th>\n",
       "      <th>ad_purpose_names</th>\n",
       "      <th>status</th>\n",
       "      <th>transactions_start_year</th>\n",
       "      <th>transactions_end_year</th>\n",
       "      <th>total_commitments</th>\n",
       "      <th>total_disbursements</th>\n",
       "    </tr>\n",
       "  </thead>\n",
       "  <tbody>\n",
       "    <tr>\n",
       "      <th>0</th>\n",
       "      <td>SL/000021</td>\n",
       "      <td>1</td>\n",
       "      <td>Strengthening District Health Services Project</td>\n",
       "      <td>2005-10-17</td>\n",
       "      <td>start-actual</td>\n",
       "      <td>2013-12-31</td>\n",
       "      <td>end-actual</td>\n",
       "      <td>African Development Bank (AfDB)</td>\n",
       "      <td>DAC</td>\n",
       "      <td>Sierra Leone</td>\n",
       "      <td>SLE</td>\n",
       "      <td>120</td>\n",
       "      <td>Health</td>\n",
       "      <td>12005</td>\n",
       "      <td>Health, purpose unspecified</td>\n",
       "      <td>Completion</td>\n",
       "      <td>2005</td>\n",
       "      <td>2013</td>\n",
       "      <td>36149108.0</td>\n",
       "      <td>36149108.0</td>\n",
       "    </tr>\n",
       "  </tbody>\n",
       "</table>\n",
       "</div>"
      ],
      "text/plain": [
       "  project_id  is_geocoded                                   project_title  \\\n",
       "0  SL/000021            1  Strengthening District Health Services Project   \n",
       "\n",
       "  start_actual_isodate start_actual_type end_actual_isodate end_actual_type  \\\n",
       "0           2005-10-17      start-actual         2013-12-31      end-actual   \n",
       "\n",
       "                            donors donors_iso3    recipients recipients_iso3  \\\n",
       "0  African Development Bank (AfDB)         DAC  Sierra Leone             SLE   \n",
       "\n",
       "  ad_sector_codes ad_sector_names ad_purpose_codes  \\\n",
       "0             120          Health            12005   \n",
       "\n",
       "              ad_purpose_names      status  transactions_start_year  \\\n",
       "0  Health, purpose unspecified  Completion                     2005   \n",
       "\n",
       "   transactions_end_year  total_commitments  total_disbursements  \n",
       "0                   2013         36149108.0           36149108.0  "
      ]
     },
     "execution_count": 5,
     "metadata": {},
     "output_type": "execute_result"
    }
   ],
   "source": [
    "import pandas as pd\n",
    "df = pd.read_csv(\"projects_original.csv\")\n",
    "df.head(1)"
   ]
  },
  {
   "cell_type": "markdown",
   "metadata": {},
   "source": [
    "The modified projects dataset shows the total amount of disbursements on projects in four given sectors, in a given year between 1992 and 2014 inclusive.\n"
   ]
  },
  {
   "cell_type": "code",
   "execution_count": 7,
   "metadata": {},
   "outputs": [
    {
     "data": {
      "text/html": [
       "<div>\n",
       "<style scoped>\n",
       "    .dataframe tbody tr th:only-of-type {\n",
       "        vertical-align: middle;\n",
       "    }\n",
       "\n",
       "    .dataframe tbody tr th {\n",
       "        vertical-align: top;\n",
       "    }\n",
       "\n",
       "    .dataframe thead th {\n",
       "        text-align: right;\n",
       "    }\n",
       "</style>\n",
       "<table border=\"1\" class=\"dataframe\">\n",
       "  <thead>\n",
       "    <tr style=\"text-align: right;\">\n",
       "      <th></th>\n",
       "      <th>Year</th>\n",
       "      <th>Agriculture</th>\n",
       "      <th>Government</th>\n",
       "      <th>Education</th>\n",
       "      <th>Health</th>\n",
       "    </tr>\n",
       "  </thead>\n",
       "  <tbody>\n",
       "    <tr>\n",
       "      <th>0</th>\n",
       "      <td>1992</td>\n",
       "      <td>0.0</td>\n",
       "      <td>0.0</td>\n",
       "      <td>51750.07143</td>\n",
       "      <td>0.0</td>\n",
       "    </tr>\n",
       "  </tbody>\n",
       "</table>\n",
       "</div>"
      ],
      "text/plain": [
       "   Year  Agriculture  Government    Education  Health\n",
       "0  1992          0.0         0.0  51750.07143     0.0"
      ]
     },
     "execution_count": 7,
     "metadata": {},
     "output_type": "execute_result"
    }
   ],
   "source": [
    "df = pd.read_csv(\"projects.csv\")\n",
    "df.head(1)"
   ]
  },
  {
   "cell_type": "markdown",
   "metadata": {},
   "source": [
    "**About the HDI data**\n",
    "* I have assumed the HDI 'Education Index' is an appropriate measure of Sierra Leone's performance in education, and that this may have some relationship with Education funding over the same time period\n",
    "* I have assumed the HDI 'Agri Employment' (The percentage of the Sierra Leone workforce employed in agriculture) will have some relationship with Agricultural funding over the same time period. \n",
    "* Agri Employment data prior to 2010 was only available for the specific years 1991, 1995, 2000 and 2005, so in order to analyse this data over the same time period as the other indicators, between those years I have inserted values equal to the previous years value plus or minus the average change per year between those two time periods. E.g. between 2005 and 2010 the % of Agri Employment changed from 65.9 to 63.7, so I have assumed that in the 4 years inbetween, Agri Employment decreased by (63.7-65.9 = -2.2 / 4 = - 0.55 per year), so 2006 = 65.9-0.55 = 65.35 and so on\n",
    "* I have assumed the HDI 'Income Index' is an appropriate measure of Sierra Leone's goverment's performance will have some relationship with goverment/bureaucratic aid funding over the same time period. \n",
    "* I have assumed the HDI 'Life Expectancy Index' is an appropriate measure of Sierra Leone's health outcomes and performance, and that it will have some relationship with health aid funding over the same time period. "
   ]
  },
  {
   "cell_type": "markdown",
   "metadata": {},
   "source": [
    "Data sourced from http://hdr.undp.org/en/data , then pre-filtered for Sierra Leone, then downloaded to seperate CSVs. Then combined into a single table, using 1 row per year"
   ]
  },
  {
   "cell_type": "code",
   "execution_count": 8,
   "metadata": {},
   "outputs": [
    {
     "data": {
      "text/html": [
       "<div>\n",
       "<style scoped>\n",
       "    .dataframe tbody tr th:only-of-type {\n",
       "        vertical-align: middle;\n",
       "    }\n",
       "\n",
       "    .dataframe tbody tr th {\n",
       "        vertical-align: top;\n",
       "    }\n",
       "\n",
       "    .dataframe thead th {\n",
       "        text-align: right;\n",
       "    }\n",
       "</style>\n",
       "<table border=\"1\" class=\"dataframe\">\n",
       "  <thead>\n",
       "    <tr style=\"text-align: right;\">\n",
       "      <th></th>\n",
       "      <th>Year</th>\n",
       "      <th>Education Index</th>\n",
       "      <th>Agri Employment</th>\n",
       "      <th>Income Index</th>\n",
       "      <th>Life Expectancy Index</th>\n",
       "    </tr>\n",
       "  </thead>\n",
       "  <tbody>\n",
       "    <tr>\n",
       "      <th>0</th>\n",
       "      <td>1992</td>\n",
       "      <td>0.194</td>\n",
       "      <td>65.3</td>\n",
       "      <td>0.382</td>\n",
       "      <td>0.25</td>\n",
       "    </tr>\n",
       "  </tbody>\n",
       "</table>\n",
       "</div>"
      ],
      "text/plain": [
       "   Year  Education Index  Agri Employment  Income Index  Life Expectancy Index\n",
       "0  1992            0.194             65.3         0.382                   0.25"
      ]
     },
     "execution_count": 8,
     "metadata": {},
     "output_type": "execute_result"
    }
   ],
   "source": [
    "hdi_df_o = pd.read_csv('hdi.csv')\n",
    "hdi_df_o.head(1)"
   ]
  },
  {
   "cell_type": "markdown",
   "metadata": {},
   "source": [
    "**About the machine learning**\n",
    " * That time series regression is the appropriate ML/statisical model to analyse the relationships proposed.  \n",
    " * That all numbers involved are real, continuous floating point numbers"
   ]
  },
  {
   "cell_type": "markdown",
   "metadata": {},
   "source": [
    "## Goals"
   ]
  },
  {
   "cell_type": "markdown",
   "metadata": {},
   "source": [
    "* Get project and HDI data into final format for analysis\n",
    "* Perform EDA on seperate datasets\n",
    "* Combine the datasets\n",
    "* Perform time series regressions between the the predictor variables (Aid increases/decreases across time) and the target variable (HDI performance increases/decreases across time)\n",
    "* Present results and conclusions"
   ]
  },
  {
   "cell_type": "markdown",
   "metadata": {},
   "source": [
    "## Success Metrics"
   ]
  },
  {
   "cell_type": "markdown",
   "metadata": {},
   "source": [
    "* If the EDA and visualisations are clear, the markers of the project will understand how the data has been changing over time in a concise and accurate way.\n",
    "* If the models are fit, and have a high r squared value, and the coefficients have a low p value, this will indicate some kind of statistical significant relationship between the predictor and the target\n",
    "\n",
    "* If I am able to answer the questions proposed in my lightning talk:\n",
    "    1. What proportion of disbursed AID dollars were given to various sectors of the country overall?\n",
    "    2. Which years contain the most amount of disbursed AID dollars?\n",
    "    3. What are the trends over time, by sector? \n",
    "    4. How has Sierra Leone been tracking in various human development indicators throughout those years, what are the trends over time, by area?"
   ]
  },
  {
   "cell_type": "markdown",
   "metadata": {},
   "source": [
    "* If I am able to address the confounders mentioned in my lightning talk:\n",
    "\n",
    "    1. Confounder 1: Time Lag. There may be a negative relationship due to the time lag involved, i.e. more project money may go into an area as it’s getting ‘worse’ in order to try an improve it, making it look like there is a negative relationship between the money and the indicator. Alternatively if there’s not as much time lag, the money may have a positive relationship with indicators, showing that it is helping immediately.\n",
    "    2. Confounder 2: Correlation vs Causation. If, for example, Sierre Leone's HDI indicators improved over the time period, and the project funding also increased over the time period, it may not mean that the project funding caused the HDI improvement. Both aspects could have been influenced by a third factor, such as improvements in the global economy and technology."
   ]
  },
  {
   "cell_type": "markdown",
   "metadata": {},
   "source": [
    "* If my conclusions logically follow from my analysis, and accurately describe whether I was able to find any meaningful relationships and if there is any further analysis that may be required"
   ]
  },
  {
   "cell_type": "markdown",
   "metadata": {},
   "source": [
    "* If I'm unable to determine any significant relationships, the project can still be considered a success as I applied data science skills to a problem I was interested in, and gained practice with data manipulation and Python programming."
   ]
  }
 ],
 "metadata": {
  "kernelspec": {
   "display_name": "Python 3",
   "language": "python",
   "name": "python3"
  },
  "language_info": {
   "codemirror_mode": {
    "name": "ipython",
    "version": 3
   },
   "file_extension": ".py",
   "mimetype": "text/x-python",
   "name": "python",
   "nbconvert_exporter": "python",
   "pygments_lexer": "ipython3",
   "version": "3.6.6"
  }
 },
 "nbformat": 4,
 "nbformat_minor": 2
}
