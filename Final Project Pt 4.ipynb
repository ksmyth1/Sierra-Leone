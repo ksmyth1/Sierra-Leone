{
 "cells": [
  {
   "cell_type": "markdown",
   "metadata": {},
   "source": [
    "## Sierra Leone AID funding and HDI - Time Series Regression"
   ]
  },
  {
   "cell_type": "code",
   "execution_count": 2,
   "metadata": {},
   "outputs": [],
   "source": [
    "#import required packages\n",
    "import pandas as pd\n",
    "import statsmodels.api as sm\n",
    "import matplotlib.pyplot as plt\n",
    "from statsmodels.graphics import tsaplots\n",
    "from statsmodels.sandbox.regression.predstd import wls_prediction_std\n",
    "import numpy as np\n",
    "import seaborn as sns\n",
    "from matplotlib import pyplot as pl\n",
    "sns.set(rc={'figure.figsize':(11.7,8.27)})"
   ]
  },
  {
   "cell_type": "markdown",
   "metadata": {},
   "source": [
    "## Data Load"
   ]
  },
  {
   "cell_type": "markdown",
   "metadata": {},
   "source": [
    "Aid project disbursements in Sierra Leone by Area"
   ]
  },
  {
   "cell_type": "code",
   "execution_count": 3,
   "metadata": {},
   "outputs": [
    {
     "name": "stdout",
     "output_type": "stream",
     "text": [
      "Aid project disbursements in Sierra Leone by sector, 1992-2014\n"
     ]
    },
    {
     "data": {
      "text/html": [
       "<div>\n",
       "<style scoped>\n",
       "    .dataframe tbody tr th:only-of-type {\n",
       "        vertical-align: middle;\n",
       "    }\n",
       "\n",
       "    .dataframe tbody tr th {\n",
       "        vertical-align: top;\n",
       "    }\n",
       "\n",
       "    .dataframe thead th {\n",
       "        text-align: right;\n",
       "    }\n",
       "</style>\n",
       "<table border=\"1\" class=\"dataframe\">\n",
       "  <thead>\n",
       "    <tr style=\"text-align: right;\">\n",
       "      <th></th>\n",
       "      <th>Year</th>\n",
       "      <th>Agriculture</th>\n",
       "      <th>Government</th>\n",
       "      <th>Education</th>\n",
       "      <th>Health</th>\n",
       "    </tr>\n",
       "  </thead>\n",
       "  <tbody>\n",
       "    <tr>\n",
       "      <th>0</th>\n",
       "      <td>1992</td>\n",
       "      <td>0.0</td>\n",
       "      <td>0.0</td>\n",
       "      <td>51750.0</td>\n",
       "      <td>0.0</td>\n",
       "    </tr>\n",
       "    <tr>\n",
       "      <th>1</th>\n",
       "      <td>1993</td>\n",
       "      <td>0.0</td>\n",
       "      <td>0.0</td>\n",
       "      <td>51750.0</td>\n",
       "      <td>0.0</td>\n",
       "    </tr>\n",
       "    <tr>\n",
       "      <th>2</th>\n",
       "      <td>1994</td>\n",
       "      <td>0.0</td>\n",
       "      <td>0.0</td>\n",
       "      <td>51750.0</td>\n",
       "      <td>0.0</td>\n",
       "    </tr>\n",
       "    <tr>\n",
       "      <th>3</th>\n",
       "      <td>1995</td>\n",
       "      <td>0.0</td>\n",
       "      <td>0.0</td>\n",
       "      <td>51750.0</td>\n",
       "      <td>0.0</td>\n",
       "    </tr>\n",
       "    <tr>\n",
       "      <th>4</th>\n",
       "      <td>1996</td>\n",
       "      <td>0.0</td>\n",
       "      <td>0.0</td>\n",
       "      <td>51750.0</td>\n",
       "      <td>0.0</td>\n",
       "    </tr>\n",
       "    <tr>\n",
       "      <th>5</th>\n",
       "      <td>1997</td>\n",
       "      <td>0.0</td>\n",
       "      <td>0.0</td>\n",
       "      <td>51750.0</td>\n",
       "      <td>0.0</td>\n",
       "    </tr>\n",
       "    <tr>\n",
       "      <th>6</th>\n",
       "      <td>1998</td>\n",
       "      <td>0.0</td>\n",
       "      <td>112370.0</td>\n",
       "      <td>51750.0</td>\n",
       "      <td>0.0</td>\n",
       "    </tr>\n",
       "    <tr>\n",
       "      <th>7</th>\n",
       "      <td>1999</td>\n",
       "      <td>0.0</td>\n",
       "      <td>112370.0</td>\n",
       "      <td>51750.0</td>\n",
       "      <td>0.0</td>\n",
       "    </tr>\n",
       "    <tr>\n",
       "      <th>8</th>\n",
       "      <td>2000</td>\n",
       "      <td>0.0</td>\n",
       "      <td>112370.0</td>\n",
       "      <td>51750.0</td>\n",
       "      <td>2321161.0</td>\n",
       "    </tr>\n",
       "    <tr>\n",
       "      <th>9</th>\n",
       "      <td>2001</td>\n",
       "      <td>0.0</td>\n",
       "      <td>380180.0</td>\n",
       "      <td>51750.0</td>\n",
       "      <td>2321161.0</td>\n",
       "    </tr>\n",
       "    <tr>\n",
       "      <th>10</th>\n",
       "      <td>2002</td>\n",
       "      <td>2005538.0</td>\n",
       "      <td>424636.0</td>\n",
       "      <td>51750.0</td>\n",
       "      <td>2920368.0</td>\n",
       "    </tr>\n",
       "    <tr>\n",
       "      <th>11</th>\n",
       "      <td>2003</td>\n",
       "      <td>5835361.0</td>\n",
       "      <td>4418195.0</td>\n",
       "      <td>8147321.0</td>\n",
       "      <td>6721179.0</td>\n",
       "    </tr>\n",
       "    <tr>\n",
       "      <th>12</th>\n",
       "      <td>2004</td>\n",
       "      <td>8177643.0</td>\n",
       "      <td>13257990.0</td>\n",
       "      <td>8147321.0</td>\n",
       "      <td>21746151.0</td>\n",
       "    </tr>\n",
       "    <tr>\n",
       "      <th>13</th>\n",
       "      <td>2005</td>\n",
       "      <td>11798260.0</td>\n",
       "      <td>28467684.0</td>\n",
       "      <td>15252416.0</td>\n",
       "      <td>28054118.0</td>\n",
       "    </tr>\n",
       "    <tr>\n",
       "      <th>14</th>\n",
       "      <td>2006</td>\n",
       "      <td>15690782.0</td>\n",
       "      <td>38266356.0</td>\n",
       "      <td>15252416.0</td>\n",
       "      <td>36641161.0</td>\n",
       "    </tr>\n",
       "    <tr>\n",
       "      <th>15</th>\n",
       "      <td>2007</td>\n",
       "      <td>16135339.0</td>\n",
       "      <td>52584906.0</td>\n",
       "      <td>21658627.0</td>\n",
       "      <td>62660128.0</td>\n",
       "    </tr>\n",
       "    <tr>\n",
       "      <th>16</th>\n",
       "      <td>2008</td>\n",
       "      <td>26130660.0</td>\n",
       "      <td>95752839.0</td>\n",
       "      <td>18255232.0</td>\n",
       "      <td>59133419.0</td>\n",
       "    </tr>\n",
       "    <tr>\n",
       "      <th>17</th>\n",
       "      <td>2009</td>\n",
       "      <td>35735553.0</td>\n",
       "      <td>100321825.0</td>\n",
       "      <td>23258558.0</td>\n",
       "      <td>78799390.0</td>\n",
       "    </tr>\n",
       "    <tr>\n",
       "      <th>18</th>\n",
       "      <td>2010</td>\n",
       "      <td>33775360.0</td>\n",
       "      <td>89383572.0</td>\n",
       "      <td>42795957.0</td>\n",
       "      <td>116650646.0</td>\n",
       "    </tr>\n",
       "    <tr>\n",
       "      <th>19</th>\n",
       "      <td>2011</td>\n",
       "      <td>34422891.0</td>\n",
       "      <td>107172317.0</td>\n",
       "      <td>20103570.0</td>\n",
       "      <td>86708255.0</td>\n",
       "    </tr>\n",
       "    <tr>\n",
       "      <th>20</th>\n",
       "      <td>2012</td>\n",
       "      <td>21758454.0</td>\n",
       "      <td>94915491.0</td>\n",
       "      <td>18295068.0</td>\n",
       "      <td>87994256.0</td>\n",
       "    </tr>\n",
       "    <tr>\n",
       "      <th>21</th>\n",
       "      <td>2013</td>\n",
       "      <td>24639727.0</td>\n",
       "      <td>68981823.0</td>\n",
       "      <td>16359360.0</td>\n",
       "      <td>83156257.0</td>\n",
       "    </tr>\n",
       "    <tr>\n",
       "      <th>22</th>\n",
       "      <td>2014</td>\n",
       "      <td>18018192.0</td>\n",
       "      <td>49866704.0</td>\n",
       "      <td>9451358.0</td>\n",
       "      <td>51838632.0</td>\n",
       "    </tr>\n",
       "  </tbody>\n",
       "</table>\n",
       "</div>"
      ],
      "text/plain": [
       "    Year  Agriculture   Government   Education       Health\n",
       "0   1992          0.0          0.0     51750.0          0.0\n",
       "1   1993          0.0          0.0     51750.0          0.0\n",
       "2   1994          0.0          0.0     51750.0          0.0\n",
       "3   1995          0.0          0.0     51750.0          0.0\n",
       "4   1996          0.0          0.0     51750.0          0.0\n",
       "5   1997          0.0          0.0     51750.0          0.0\n",
       "6   1998          0.0     112370.0     51750.0          0.0\n",
       "7   1999          0.0     112370.0     51750.0          0.0\n",
       "8   2000          0.0     112370.0     51750.0    2321161.0\n",
       "9   2001          0.0     380180.0     51750.0    2321161.0\n",
       "10  2002    2005538.0     424636.0     51750.0    2920368.0\n",
       "11  2003    5835361.0    4418195.0   8147321.0    6721179.0\n",
       "12  2004    8177643.0   13257990.0   8147321.0   21746151.0\n",
       "13  2005   11798260.0   28467684.0  15252416.0   28054118.0\n",
       "14  2006   15690782.0   38266356.0  15252416.0   36641161.0\n",
       "15  2007   16135339.0   52584906.0  21658627.0   62660128.0\n",
       "16  2008   26130660.0   95752839.0  18255232.0   59133419.0\n",
       "17  2009   35735553.0  100321825.0  23258558.0   78799390.0\n",
       "18  2010   33775360.0   89383572.0  42795957.0  116650646.0\n",
       "19  2011   34422891.0  107172317.0  20103570.0   86708255.0\n",
       "20  2012   21758454.0   94915491.0  18295068.0   87994256.0\n",
       "21  2013   24639727.0   68981823.0  16359360.0   83156257.0\n",
       "22  2014   18018192.0   49866704.0   9451358.0   51838632.0"
      ]
     },
     "execution_count": 3,
     "metadata": {},
     "output_type": "execute_result"
    }
   ],
   "source": [
    "#read in the project data. \n",
    "#As discussed in other parts, this data represents the sum of \n",
    "#disbursed funding for sectors of projects over that time period\n",
    "df = pd.read_csv(\"projects.csv\")\n",
    "\n",
    "# print dataset, showing all 22 years\n",
    "print(\"Aid project disbursements in Sierra Leone by sector, 1992-2014\")\n",
    "df.round()\n"
   ]
  },
  {
   "cell_type": "code",
   "execution_count": 4,
   "metadata": {},
   "outputs": [
    {
     "name": "stdout",
     "output_type": "stream",
     "text": [
      "<class 'pandas.core.frame.DataFrame'>\n",
      "RangeIndex: 23 entries, 0 to 22\n",
      "Data columns (total 5 columns):\n",
      "Year           23 non-null int64\n",
      "Agriculture    23 non-null float64\n",
      "Government     23 non-null float64\n",
      "Education      23 non-null float64\n",
      "Health         23 non-null float64\n",
      "dtypes: float64(4), int64(1)\n",
      "memory usage: 1000.0 bytes\n"
     ]
    }
   ],
   "source": [
    "# check the datatypes are correct\n",
    "df.info()"
   ]
  },
  {
   "cell_type": "code",
   "execution_count": 5,
   "metadata": {},
   "outputs": [
    {
     "data": {
      "text/html": [
       "<div>\n",
       "<style scoped>\n",
       "    .dataframe tbody tr th:only-of-type {\n",
       "        vertical-align: middle;\n",
       "    }\n",
       "\n",
       "    .dataframe tbody tr th {\n",
       "        vertical-align: top;\n",
       "    }\n",
       "\n",
       "    .dataframe thead th {\n",
       "        text-align: right;\n",
       "    }\n",
       "</style>\n",
       "<table border=\"1\" class=\"dataframe\">\n",
       "  <thead>\n",
       "    <tr style=\"text-align: right;\">\n",
       "      <th></th>\n",
       "      <th>Year</th>\n",
       "      <th>Education Index</th>\n",
       "      <th>Agri Employment</th>\n",
       "      <th>Income Index</th>\n",
       "      <th>Life Expectancy Index</th>\n",
       "    </tr>\n",
       "  </thead>\n",
       "  <tbody>\n",
       "    <tr>\n",
       "      <th>18</th>\n",
       "      <td>2010</td>\n",
       "      <td>0.349</td>\n",
       "      <td>63.7</td>\n",
       "      <td>0.377</td>\n",
       "      <td>0.434</td>\n",
       "    </tr>\n",
       "    <tr>\n",
       "      <th>19</th>\n",
       "      <td>2011</td>\n",
       "      <td>0.357</td>\n",
       "      <td>63.2</td>\n",
       "      <td>0.379</td>\n",
       "      <td>0.447</td>\n",
       "    </tr>\n",
       "    <tr>\n",
       "      <th>20</th>\n",
       "      <td>2012</td>\n",
       "      <td>0.364</td>\n",
       "      <td>61.2</td>\n",
       "      <td>0.404</td>\n",
       "      <td>0.458</td>\n",
       "    </tr>\n",
       "    <tr>\n",
       "      <th>21</th>\n",
       "      <td>2013</td>\n",
       "      <td>0.372</td>\n",
       "      <td>58.2</td>\n",
       "      <td>0.423</td>\n",
       "      <td>0.468</td>\n",
       "    </tr>\n",
       "    <tr>\n",
       "      <th>22</th>\n",
       "      <td>2014</td>\n",
       "      <td>0.374</td>\n",
       "      <td>57.7</td>\n",
       "      <td>0.424</td>\n",
       "      <td>0.476</td>\n",
       "    </tr>\n",
       "  </tbody>\n",
       "</table>\n",
       "</div>"
      ],
      "text/plain": [
       "    Year  Education Index  Agri Employment  Income Index  \\\n",
       "18  2010            0.349             63.7         0.377   \n",
       "19  2011            0.357             63.2         0.379   \n",
       "20  2012            0.364             61.2         0.404   \n",
       "21  2013            0.372             58.2         0.423   \n",
       "22  2014            0.374             57.7         0.424   \n",
       "\n",
       "    Life Expectancy Index  \n",
       "18                  0.434  \n",
       "19                  0.447  \n",
       "20                  0.458  \n",
       "21                  0.468  \n",
       "22                  0.476  "
      ]
     },
     "execution_count": 5,
     "metadata": {},
     "output_type": "execute_result"
    }
   ],
   "source": [
    "#import HDI dataset and show last 5 rows\n",
    "hdi_df = pd.read_csv('hdi.csv')\n",
    "hdi_df = hdi_df[hdi_df['Year'] <2015]\n",
    "hdi_df.tail()"
   ]
  },
  {
   "cell_type": "code",
   "execution_count": 6,
   "metadata": {},
   "outputs": [
    {
     "name": "stdout",
     "output_type": "stream",
     "text": [
      "<class 'pandas.core.frame.DataFrame'>\n",
      "Int64Index: 23 entries, 0 to 22\n",
      "Data columns (total 5 columns):\n",
      "Year                     23 non-null int64\n",
      "Education Index          23 non-null float64\n",
      "Agri Employment          23 non-null float64\n",
      "Income Index             23 non-null float64\n",
      "Life Expectancy Index    23 non-null float64\n",
      "dtypes: float64(4), int64(1)\n",
      "memory usage: 1.1 KB\n"
     ]
    }
   ],
   "source": [
    "# check the datatypes are correct\n",
    "hdi_df.info()"
   ]
  },
  {
   "cell_type": "code",
   "execution_count": 7,
   "metadata": {},
   "outputs": [
    {
     "data": {
      "text/plain": [
       "<matplotlib.axes._subplots.AxesSubplot at 0x10a55d160>"
      ]
     },
     "execution_count": 7,
     "metadata": {},
     "output_type": "execute_result"
    },
    {
     "data": {
      "image/png": "[encoded data removed]",
      "text/plain": [
       "<Figure size 864x576 with 1 Axes>"
      ]
     },
     "metadata": {},
     "output_type": "display_data"
    }
   ],
   "source": [
    "#plot the funding over time\n",
    "fig, ax = plt.subplots(1, 1, figsize=(12, 8))\n",
    "df.set_index('Year').plot(ax=ax, marker=\".\", linestyle=\"-\")"
   ]
  },
  {
   "cell_type": "code",
   "execution_count": 8,
   "metadata": {},
   "outputs": [
    {
     "data": {
      "text/plain": [
       "<matplotlib.axes._subplots.AxesSubplot at 0x11151c550>"
      ]
     },
     "execution_count": 8,
     "metadata": {},
     "output_type": "execute_result"
    },
    {
     "data": {
      "image/png": "[encoded data removed]",
      "text/plain": [
       "<Figure size 864x576 with 1 Axes>"
      ]
     },
     "metadata": {},
     "output_type": "display_data"
    }
   ],
   "source": [
    "#plot the HDI over time\n",
    "fig, ax = plt.subplots(1, 1, figsize=(12, 8))\n",
    "hdi_df.drop(columns=['Agri Employment']).set_index('Year').plot(ax=ax, marker=\".\", linestyle=\"-\")"
   ]
  },
  {
   "cell_type": "code",
   "execution_count": 9,
   "metadata": {},
   "outputs": [
    {
     "data": {
      "text/plain": [
       "<matplotlib.axes._subplots.AxesSubplot at 0x1116eb7b8>"
      ]
     },
     "execution_count": 9,
     "metadata": {},
     "output_type": "execute_result"
    },
    {
     "data": {
      "image/png": "[encoded data removed]",
      "text/plain": [
       "<Figure size 864x576 with 1 Axes>"
      ]
     },
     "metadata": {},
     "output_type": "display_data"
    }
   ],
   "source": [
    "#plot the agricultural employment over time\n",
    "fig, ax = plt.subplots(1, 1, figsize=(12, 8))\n",
    "hdi_df[['Year','Agri Employment']].set_index('Year').plot(ax=ax, marker=\".\", linestyle=\"-\")"
   ]
  },
  {
   "cell_type": "code",
   "execution_count": 10,
   "metadata": {},
   "outputs": [
    {
     "data": {
      "text/html": [
       "<div>\n",
       "<style scoped>\n",
       "    .dataframe tbody tr th:only-of-type {\n",
       "        vertical-align: middle;\n",
       "    }\n",
       "\n",
       "    .dataframe tbody tr th {\n",
       "        vertical-align: top;\n",
       "    }\n",
       "\n",
       "    .dataframe thead th {\n",
       "        text-align: right;\n",
       "    }\n",
       "</style>\n",
       "<table border=\"1\" class=\"dataframe\">\n",
       "  <thead>\n",
       "    <tr style=\"text-align: right;\">\n",
       "      <th></th>\n",
       "      <th>Year</th>\n",
       "      <th>Agriculture</th>\n",
       "      <th>Government</th>\n",
       "      <th>Education</th>\n",
       "      <th>Health</th>\n",
       "      <th>Education Index</th>\n",
       "      <th>Agri Employment</th>\n",
       "      <th>Income Index</th>\n",
       "      <th>Life Expectancy Index</th>\n",
       "    </tr>\n",
       "  </thead>\n",
       "  <tbody>\n",
       "    <tr>\n",
       "      <th>0</th>\n",
       "      <td>1992</td>\n",
       "      <td>0.0</td>\n",
       "      <td>0.0</td>\n",
       "      <td>51750.07143</td>\n",
       "      <td>0.0</td>\n",
       "      <td>0.194</td>\n",
       "      <td>65.3</td>\n",
       "      <td>0.382</td>\n",
       "      <td>0.250</td>\n",
       "    </tr>\n",
       "    <tr>\n",
       "      <th>1</th>\n",
       "      <td>1993</td>\n",
       "      <td>0.0</td>\n",
       "      <td>0.0</td>\n",
       "      <td>51750.07143</td>\n",
       "      <td>0.0</td>\n",
       "      <td>0.203</td>\n",
       "      <td>67.2</td>\n",
       "      <td>0.391</td>\n",
       "      <td>0.244</td>\n",
       "    </tr>\n",
       "    <tr>\n",
       "      <th>2</th>\n",
       "      <td>1994</td>\n",
       "      <td>0.0</td>\n",
       "      <td>0.0</td>\n",
       "      <td>51750.07143</td>\n",
       "      <td>0.0</td>\n",
       "      <td>0.213</td>\n",
       "      <td>69.1</td>\n",
       "      <td>0.386</td>\n",
       "      <td>0.242</td>\n",
       "    </tr>\n",
       "    <tr>\n",
       "      <th>3</th>\n",
       "      <td>1995</td>\n",
       "      <td>0.0</td>\n",
       "      <td>0.0</td>\n",
       "      <td>51750.07143</td>\n",
       "      <td>0.0</td>\n",
       "      <td>0.223</td>\n",
       "      <td>66.3</td>\n",
       "      <td>0.381</td>\n",
       "      <td>0.242</td>\n",
       "    </tr>\n",
       "    <tr>\n",
       "      <th>4</th>\n",
       "      <td>1996</td>\n",
       "      <td>0.0</td>\n",
       "      <td>0.0</td>\n",
       "      <td>51750.07143</td>\n",
       "      <td>0.0</td>\n",
       "      <td>0.232</td>\n",
       "      <td>66.4</td>\n",
       "      <td>0.342</td>\n",
       "      <td>0.246</td>\n",
       "    </tr>\n",
       "  </tbody>\n",
       "</table>\n",
       "</div>"
      ],
      "text/plain": [
       "   Year  Agriculture  Government    Education  Health  Education Index  \\\n",
       "0  1992          0.0         0.0  51750.07143     0.0            0.194   \n",
       "1  1993          0.0         0.0  51750.07143     0.0            0.203   \n",
       "2  1994          0.0         0.0  51750.07143     0.0            0.213   \n",
       "3  1995          0.0         0.0  51750.07143     0.0            0.223   \n",
       "4  1996          0.0         0.0  51750.07143     0.0            0.232   \n",
       "\n",
       "   Agri Employment  Income Index  Life Expectancy Index  \n",
       "0             65.3         0.382                  0.250  \n",
       "1             67.2         0.391                  0.244  \n",
       "2             69.1         0.386                  0.242  \n",
       "3             66.3         0.381                  0.242  \n",
       "4             66.4         0.342                  0.246  "
      ]
     },
     "execution_count": 10,
     "metadata": {},
     "output_type": "execute_result"
    }
   ],
   "source": [
    "#combine the datasets \n",
    "df_c = pd.concat([df.reset_index(drop=True),hdi_df.reset_index(drop=True).drop(columns='Year')], axis=1)\n",
    "df_c.head()"
   ]
  },
  {
   "cell_type": "code",
   "execution_count": 11,
   "metadata": {},
   "outputs": [
    {
     "data": {
      "text/plain": [
       "<matplotlib.axes._subplots.AxesSubplot at 0x1c16db4710>"
      ]
     },
     "execution_count": 11,
     "metadata": {},
     "output_type": "execute_result"
    },
    {
     "data": {
      "image/png": "[encoded data removed]",
      "text/plain": [
       "<Figure size 432x288 with 2 Axes>"
      ]
     },
     "metadata": {},
     "output_type": "display_data"
    }
   ],
   "source": [
    "#produce a correlation heatmap between the variables\n",
    "sns.heatmap(df_c.corr(),cmap=\"coolwarm\", annot=True, square=True)"
   ]
  },
  {
   "cell_type": "markdown",
   "metadata": {},
   "source": [
    "The correlations we are most interested in are:\n",
    "* Education Index with Education = 0.76, showing a positive relationship. Interestingly Health, Goverment and Agricultural spending are correlate more highly with Educational Index performance than Educational spending which I did not expect.\n",
    "\n",
    "* Life Expectancy Index with Health = 0.9, showing a positive relationship. Health spending has the highest correlation with the Index amongst the categories of spending which is what I expected.\n",
    "\n",
    "* Income Index with Goverment = 0.57, showing a weak positive relationship. I expected Goverment spending to have the most correlation amongst the categories of spending, however Health spending has a slightly higher correlation. \n",
    "\n",
    "* Agricultural Employment with Agriculture = -0.67, showing a moderate negative relationship. I expected Agricultural spending to have a high negative correlation with Agricultural employment, and while Agricultural spending has the largest correlation amongst spending sectors, it is not a strong relationship  "
   ]
  },
  {
   "cell_type": "markdown",
   "metadata": {},
   "source": [
    "Lets look at education"
   ]
  },
  {
   "cell_type": "code",
   "execution_count": 12,
   "metadata": {},
   "outputs": [
    {
     "data": {
      "image/png": "[encoded data removed]",
      "text/plain": [
       "<Figure size 1440x720 with 1 Axes>"
      ]
     },
     "metadata": {},
     "output_type": "display_data"
    }
   ],
   "source": [
    "#smooth the data to see the long term trend\n",
    "edu_i = df_c[['Education Index']]\n",
    "edu_i.rolling(6).mean().plot(figsize=(20,10), linewidth=5, fontsize=20)\n",
    "plt.xlabel('Year', fontsize=20);"
   ]
  },
  {
   "cell_type": "code",
   "execution_count": 13,
   "metadata": {},
   "outputs": [
    {
     "data": {
      "image/png": "[encoded data removed]",
      "text/plain": [
       "<Figure size 1440x720 with 1 Axes>"
      ]
     },
     "metadata": {},
     "output_type": "display_data"
    }
   ],
   "source": [
    "#smooth the data to see the long term trend\n",
    "edu_f = df_c[['Education']]\n",
    "edu_f.rolling(6).mean().plot(figsize=(20,10), linewidth=5, fontsize=20)\n",
    "plt.xlabel('Year', fontsize=20);"
   ]
  },
  {
   "cell_type": "code",
   "execution_count": 14,
   "metadata": {},
   "outputs": [],
   "source": [
    "#set up target and predictor columns\n",
    "y = df_c[['Education Index']]\n",
    "X = df_c[['Education']].astype('int64')"
   ]
  },
  {
   "cell_type": "code",
   "execution_count": 15,
   "metadata": {},
   "outputs": [
    {
     "data": {
      "text/html": [
       "<div>\n",
       "<style scoped>\n",
       "    .dataframe tbody tr th:only-of-type {\n",
       "        vertical-align: middle;\n",
       "    }\n",
       "\n",
       "    .dataframe tbody tr th {\n",
       "        vertical-align: top;\n",
       "    }\n",
       "\n",
       "    .dataframe thead th {\n",
       "        text-align: right;\n",
       "    }\n",
       "</style>\n",
       "<table border=\"1\" class=\"dataframe\">\n",
       "  <thead>\n",
       "    <tr style=\"text-align: right;\">\n",
       "      <th></th>\n",
       "      <th>Education</th>\n",
       "    </tr>\n",
       "  </thead>\n",
       "  <tbody>\n",
       "    <tr>\n",
       "      <th>0</th>\n",
       "      <td>51750</td>\n",
       "    </tr>\n",
       "    <tr>\n",
       "      <th>1</th>\n",
       "      <td>51750</td>\n",
       "    </tr>\n",
       "    <tr>\n",
       "      <th>2</th>\n",
       "      <td>51750</td>\n",
       "    </tr>\n",
       "    <tr>\n",
       "      <th>3</th>\n",
       "      <td>51750</td>\n",
       "    </tr>\n",
       "    <tr>\n",
       "      <th>4</th>\n",
       "      <td>51750</td>\n",
       "    </tr>\n",
       "    <tr>\n",
       "      <th>5</th>\n",
       "      <td>51750</td>\n",
       "    </tr>\n",
       "    <tr>\n",
       "      <th>6</th>\n",
       "      <td>51750</td>\n",
       "    </tr>\n",
       "    <tr>\n",
       "      <th>7</th>\n",
       "      <td>51750</td>\n",
       "    </tr>\n",
       "    <tr>\n",
       "      <th>8</th>\n",
       "      <td>51750</td>\n",
       "    </tr>\n",
       "    <tr>\n",
       "      <th>9</th>\n",
       "      <td>51750</td>\n",
       "    </tr>\n",
       "    <tr>\n",
       "      <th>10</th>\n",
       "      <td>51750</td>\n",
       "    </tr>\n",
       "    <tr>\n",
       "      <th>11</th>\n",
       "      <td>8147320</td>\n",
       "    </tr>\n",
       "    <tr>\n",
       "      <th>12</th>\n",
       "      <td>8147320</td>\n",
       "    </tr>\n",
       "    <tr>\n",
       "      <th>13</th>\n",
       "      <td>15252415</td>\n",
       "    </tr>\n",
       "    <tr>\n",
       "      <th>14</th>\n",
       "      <td>15252415</td>\n",
       "    </tr>\n",
       "    <tr>\n",
       "      <th>15</th>\n",
       "      <td>21658626</td>\n",
       "    </tr>\n",
       "    <tr>\n",
       "      <th>16</th>\n",
       "      <td>18255231</td>\n",
       "    </tr>\n",
       "    <tr>\n",
       "      <th>17</th>\n",
       "      <td>23258557</td>\n",
       "    </tr>\n",
       "    <tr>\n",
       "      <th>18</th>\n",
       "      <td>42795956</td>\n",
       "    </tr>\n",
       "    <tr>\n",
       "      <th>19</th>\n",
       "      <td>20103570</td>\n",
       "    </tr>\n",
       "    <tr>\n",
       "      <th>20</th>\n",
       "      <td>18295067</td>\n",
       "    </tr>\n",
       "    <tr>\n",
       "      <th>21</th>\n",
       "      <td>16359359</td>\n",
       "    </tr>\n",
       "    <tr>\n",
       "      <th>22</th>\n",
       "      <td>9451357</td>\n",
       "    </tr>\n",
       "  </tbody>\n",
       "</table>\n",
       "</div>"
      ],
      "text/plain": [
       "    Education\n",
       "0       51750\n",
       "1       51750\n",
       "2       51750\n",
       "3       51750\n",
       "4       51750\n",
       "5       51750\n",
       "6       51750\n",
       "7       51750\n",
       "8       51750\n",
       "9       51750\n",
       "10      51750\n",
       "11    8147320\n",
       "12    8147320\n",
       "13   15252415\n",
       "14   15252415\n",
       "15   21658626\n",
       "16   18255231\n",
       "17   23258557\n",
       "18   42795956\n",
       "19   20103570\n",
       "20   18295067\n",
       "21   16359359\n",
       "22    9451357"
      ]
     },
     "execution_count": 15,
     "metadata": {},
     "output_type": "execute_result"
    }
   ],
   "source": [
    "X"
   ]
  },
  {
   "cell_type": "code",
   "execution_count": 16,
   "metadata": {},
   "outputs": [
    {
     "data": {
      "image/png": "[encoded data removed]",
      "text/plain": [
       "<Figure size 432x288 with 1 Axes>"
      ]
     },
     "execution_count": 16,
     "metadata": {},
     "output_type": "execute_result"
    },
    {
     "data": {
      "image/png": "[encoded data removed]",
      "text/plain": [
       "<Figure size 432x288 with 1 Axes>"
      ]
     },
     "metadata": {},
     "output_type": "display_data"
    }
   ],
   "source": [
    "#plot autocorrelation\n",
    "tsaplots.plot_acf(y)"
   ]
  },
  {
   "cell_type": "code",
   "execution_count": 17,
   "metadata": {},
   "outputs": [],
   "source": [
    "#set up an autocorrelation column for the target\n",
    "X['Education Index Lag 1'] = y.shift(1)\n",
    "#set up a lag 1 column for the predictor which should be have more predictive power than lag 0 values\n",
    "X['Education Lag 1'] = X['Education'].shift(1)\n",
    "#set up the intercept for the statsmodel regression\n",
    "X['Intercept'] = 1"
   ]
  },
  {
   "cell_type": "code",
   "execution_count": 18,
   "metadata": {},
   "outputs": [],
   "source": [
    "#drop the first row of data due to the autocorrelation\n",
    "X = X.iloc[1:,:]\n",
    "\n",
    "y = y.iloc[1:,:]"
   ]
  },
  {
   "cell_type": "code",
   "execution_count": 19,
   "metadata": {},
   "outputs": [
    {
     "name": "stderr",
     "output_type": "stream",
     "text": [
      "/anaconda3/lib/python3.6/site-packages/ipykernel_launcher.py:2: SettingWithCopyWarning: \n",
      "A value is trying to be set on a copy of a slice from a DataFrame.\n",
      "Try using .loc[row_indexer,col_indexer] = value instead\n",
      "\n",
      "See the caveats in the documentation: http://pandas.pydata.org/pandas-docs/stable/indexing.html#indexing-view-versus-copy\n",
      "  \n"
     ]
    },
    {
     "data": {
      "text/html": [
       "<div>\n",
       "<style scoped>\n",
       "    .dataframe tbody tr th:only-of-type {\n",
       "        vertical-align: middle;\n",
       "    }\n",
       "\n",
       "    .dataframe tbody tr th {\n",
       "        vertical-align: top;\n",
       "    }\n",
       "\n",
       "    .dataframe thead th {\n",
       "        text-align: right;\n",
       "    }\n",
       "</style>\n",
       "<table border=\"1\" class=\"dataframe\">\n",
       "  <thead>\n",
       "    <tr style=\"text-align: right;\">\n",
       "      <th></th>\n",
       "      <th>Education</th>\n",
       "      <th>Education Index Lag 1</th>\n",
       "      <th>Education Lag 1</th>\n",
       "      <th>Intercept</th>\n",
       "      <th>trend</th>\n",
       "    </tr>\n",
       "  </thead>\n",
       "  <tbody>\n",
       "    <tr>\n",
       "      <th>1</th>\n",
       "      <td>51750</td>\n",
       "      <td>0.194</td>\n",
       "      <td>51750.0</td>\n",
       "      <td>1</td>\n",
       "      <td>1</td>\n",
       "    </tr>\n",
       "    <tr>\n",
       "      <th>2</th>\n",
       "      <td>51750</td>\n",
       "      <td>0.203</td>\n",
       "      <td>51750.0</td>\n",
       "      <td>1</td>\n",
       "      <td>2</td>\n",
       "    </tr>\n",
       "    <tr>\n",
       "      <th>3</th>\n",
       "      <td>51750</td>\n",
       "      <td>0.213</td>\n",
       "      <td>51750.0</td>\n",
       "      <td>1</td>\n",
       "      <td>3</td>\n",
       "    </tr>\n",
       "    <tr>\n",
       "      <th>4</th>\n",
       "      <td>51750</td>\n",
       "      <td>0.223</td>\n",
       "      <td>51750.0</td>\n",
       "      <td>1</td>\n",
       "      <td>4</td>\n",
       "    </tr>\n",
       "    <tr>\n",
       "      <th>5</th>\n",
       "      <td>51750</td>\n",
       "      <td>0.232</td>\n",
       "      <td>51750.0</td>\n",
       "      <td>1</td>\n",
       "      <td>5</td>\n",
       "    </tr>\n",
       "    <tr>\n",
       "      <th>6</th>\n",
       "      <td>51750</td>\n",
       "      <td>0.242</td>\n",
       "      <td>51750.0</td>\n",
       "      <td>1</td>\n",
       "      <td>6</td>\n",
       "    </tr>\n",
       "    <tr>\n",
       "      <th>7</th>\n",
       "      <td>51750</td>\n",
       "      <td>0.251</td>\n",
       "      <td>51750.0</td>\n",
       "      <td>1</td>\n",
       "      <td>7</td>\n",
       "    </tr>\n",
       "    <tr>\n",
       "      <th>8</th>\n",
       "      <td>51750</td>\n",
       "      <td>0.260</td>\n",
       "      <td>51750.0</td>\n",
       "      <td>1</td>\n",
       "      <td>8</td>\n",
       "    </tr>\n",
       "    <tr>\n",
       "      <th>9</th>\n",
       "      <td>51750</td>\n",
       "      <td>0.270</td>\n",
       "      <td>51750.0</td>\n",
       "      <td>1</td>\n",
       "      <td>9</td>\n",
       "    </tr>\n",
       "    <tr>\n",
       "      <th>10</th>\n",
       "      <td>51750</td>\n",
       "      <td>0.279</td>\n",
       "      <td>51750.0</td>\n",
       "      <td>1</td>\n",
       "      <td>10</td>\n",
       "    </tr>\n",
       "    <tr>\n",
       "      <th>11</th>\n",
       "      <td>8147320</td>\n",
       "      <td>0.287</td>\n",
       "      <td>51750.0</td>\n",
       "      <td>1</td>\n",
       "      <td>11</td>\n",
       "    </tr>\n",
       "    <tr>\n",
       "      <th>12</th>\n",
       "      <td>8147320</td>\n",
       "      <td>0.295</td>\n",
       "      <td>8147320.0</td>\n",
       "      <td>1</td>\n",
       "      <td>12</td>\n",
       "    </tr>\n",
       "    <tr>\n",
       "      <th>13</th>\n",
       "      <td>15252415</td>\n",
       "      <td>0.303</td>\n",
       "      <td>8147320.0</td>\n",
       "      <td>1</td>\n",
       "      <td>13</td>\n",
       "    </tr>\n",
       "    <tr>\n",
       "      <th>14</th>\n",
       "      <td>15252415</td>\n",
       "      <td>0.311</td>\n",
       "      <td>15252415.0</td>\n",
       "      <td>1</td>\n",
       "      <td>14</td>\n",
       "    </tr>\n",
       "    <tr>\n",
       "      <th>15</th>\n",
       "      <td>21658626</td>\n",
       "      <td>0.318</td>\n",
       "      <td>15252415.0</td>\n",
       "      <td>1</td>\n",
       "      <td>15</td>\n",
       "    </tr>\n",
       "    <tr>\n",
       "      <th>16</th>\n",
       "      <td>18255231</td>\n",
       "      <td>0.326</td>\n",
       "      <td>21658626.0</td>\n",
       "      <td>1</td>\n",
       "      <td>16</td>\n",
       "    </tr>\n",
       "    <tr>\n",
       "      <th>17</th>\n",
       "      <td>23258557</td>\n",
       "      <td>0.334</td>\n",
       "      <td>18255231.0</td>\n",
       "      <td>1</td>\n",
       "      <td>17</td>\n",
       "    </tr>\n",
       "    <tr>\n",
       "      <th>18</th>\n",
       "      <td>42795956</td>\n",
       "      <td>0.342</td>\n",
       "      <td>23258557.0</td>\n",
       "      <td>1</td>\n",
       "      <td>18</td>\n",
       "    </tr>\n",
       "    <tr>\n",
       "      <th>19</th>\n",
       "      <td>20103570</td>\n",
       "      <td>0.349</td>\n",
       "      <td>42795956.0</td>\n",
       "      <td>1</td>\n",
       "      <td>19</td>\n",
       "    </tr>\n",
       "    <tr>\n",
       "      <th>20</th>\n",
       "      <td>18295067</td>\n",
       "      <td>0.357</td>\n",
       "      <td>20103570.0</td>\n",
       "      <td>1</td>\n",
       "      <td>20</td>\n",
       "    </tr>\n",
       "    <tr>\n",
       "      <th>21</th>\n",
       "      <td>16359359</td>\n",
       "      <td>0.364</td>\n",
       "      <td>18295067.0</td>\n",
       "      <td>1</td>\n",
       "      <td>21</td>\n",
       "    </tr>\n",
       "    <tr>\n",
       "      <th>22</th>\n",
       "      <td>9451357</td>\n",
       "      <td>0.372</td>\n",
       "      <td>16359359.0</td>\n",
       "      <td>1</td>\n",
       "      <td>22</td>\n",
       "    </tr>\n",
       "  </tbody>\n",
       "</table>\n",
       "</div>"
      ],
      "text/plain": [
       "    Education  Education Index Lag 1  Education Lag 1  Intercept  trend\n",
       "1       51750                  0.194          51750.0          1      1\n",
       "2       51750                  0.203          51750.0          1      2\n",
       "3       51750                  0.213          51750.0          1      3\n",
       "4       51750                  0.223          51750.0          1      4\n",
       "5       51750                  0.232          51750.0          1      5\n",
       "6       51750                  0.242          51750.0          1      6\n",
       "7       51750                  0.251          51750.0          1      7\n",
       "8       51750                  0.260          51750.0          1      8\n",
       "9       51750                  0.270          51750.0          1      9\n",
       "10      51750                  0.279          51750.0          1     10\n",
       "11    8147320                  0.287          51750.0          1     11\n",
       "12    8147320                  0.295        8147320.0          1     12\n",
       "13   15252415                  0.303        8147320.0          1     13\n",
       "14   15252415                  0.311       15252415.0          1     14\n",
       "15   21658626                  0.318       15252415.0          1     15\n",
       "16   18255231                  0.326       21658626.0          1     16\n",
       "17   23258557                  0.334       18255231.0          1     17\n",
       "18   42795956                  0.342       23258557.0          1     18\n",
       "19   20103570                  0.349       42795956.0          1     19\n",
       "20   18295067                  0.357       20103570.0          1     20\n",
       "21   16359359                  0.364       18295067.0          1     21\n",
       "22    9451357                  0.372       16359359.0          1     22"
      ]
     },
     "execution_count": 19,
     "metadata": {},
     "output_type": "execute_result"
    }
   ],
   "source": [
    "#add a trend column\n",
    "X['trend'] = range(1,len(X.index)+1)\n",
    "\n",
    "X"
   ]
  },
  {
   "cell_type": "code",
   "execution_count": 20,
   "metadata": {},
   "outputs": [
    {
     "data": {
      "text/html": [
       "<div>\n",
       "<style scoped>\n",
       "    .dataframe tbody tr th:only-of-type {\n",
       "        vertical-align: middle;\n",
       "    }\n",
       "\n",
       "    .dataframe tbody tr th {\n",
       "        vertical-align: top;\n",
       "    }\n",
       "\n",
       "    .dataframe thead th {\n",
       "        text-align: right;\n",
       "    }\n",
       "</style>\n",
       "<table border=\"1\" class=\"dataframe\">\n",
       "  <thead>\n",
       "    <tr style=\"text-align: right;\">\n",
       "      <th></th>\n",
       "      <th>Education Index</th>\n",
       "    </tr>\n",
       "  </thead>\n",
       "  <tbody>\n",
       "    <tr>\n",
       "      <th>1</th>\n",
       "      <td>0.203</td>\n",
       "    </tr>\n",
       "    <tr>\n",
       "      <th>2</th>\n",
       "      <td>0.213</td>\n",
       "    </tr>\n",
       "    <tr>\n",
       "      <th>3</th>\n",
       "      <td>0.223</td>\n",
       "    </tr>\n",
       "    <tr>\n",
       "      <th>4</th>\n",
       "      <td>0.232</td>\n",
       "    </tr>\n",
       "    <tr>\n",
       "      <th>5</th>\n",
       "      <td>0.242</td>\n",
       "    </tr>\n",
       "  </tbody>\n",
       "</table>\n",
       "</div>"
      ],
      "text/plain": [
       "   Education Index\n",
       "1            0.203\n",
       "2            0.213\n",
       "3            0.223\n",
       "4            0.232\n",
       "5            0.242"
      ]
     },
     "execution_count": 20,
     "metadata": {},
     "output_type": "execute_result"
    }
   ],
   "source": [
    "y.head(5)"
   ]
  },
  {
   "cell_type": "code",
   "execution_count": 21,
   "metadata": {},
   "outputs": [
    {
     "data": {
      "text/html": [
       "<div>\n",
       "<style scoped>\n",
       "    .dataframe tbody tr th:only-of-type {\n",
       "        vertical-align: middle;\n",
       "    }\n",
       "\n",
       "    .dataframe tbody tr th {\n",
       "        vertical-align: top;\n",
       "    }\n",
       "\n",
       "    .dataframe thead th {\n",
       "        text-align: right;\n",
       "    }\n",
       "</style>\n",
       "<table border=\"1\" class=\"dataframe\">\n",
       "  <thead>\n",
       "    <tr style=\"text-align: right;\">\n",
       "      <th></th>\n",
       "      <th>Education</th>\n",
       "      <th>Education Index Lag 1</th>\n",
       "      <th>Education Lag 1</th>\n",
       "      <th>Intercept</th>\n",
       "      <th>trend</th>\n",
       "    </tr>\n",
       "  </thead>\n",
       "  <tbody>\n",
       "    <tr>\n",
       "      <th>1</th>\n",
       "      <td>51750</td>\n",
       "      <td>0.194</td>\n",
       "      <td>51750.0</td>\n",
       "      <td>1</td>\n",
       "      <td>1</td>\n",
       "    </tr>\n",
       "    <tr>\n",
       "      <th>2</th>\n",
       "      <td>51750</td>\n",
       "      <td>0.203</td>\n",
       "      <td>51750.0</td>\n",
       "      <td>1</td>\n",
       "      <td>2</td>\n",
       "    </tr>\n",
       "    <tr>\n",
       "      <th>3</th>\n",
       "      <td>51750</td>\n",
       "      <td>0.213</td>\n",
       "      <td>51750.0</td>\n",
       "      <td>1</td>\n",
       "      <td>3</td>\n",
       "    </tr>\n",
       "    <tr>\n",
       "      <th>4</th>\n",
       "      <td>51750</td>\n",
       "      <td>0.223</td>\n",
       "      <td>51750.0</td>\n",
       "      <td>1</td>\n",
       "      <td>4</td>\n",
       "    </tr>\n",
       "    <tr>\n",
       "      <th>5</th>\n",
       "      <td>51750</td>\n",
       "      <td>0.232</td>\n",
       "      <td>51750.0</td>\n",
       "      <td>1</td>\n",
       "      <td>5</td>\n",
       "    </tr>\n",
       "    <tr>\n",
       "      <th>6</th>\n",
       "      <td>51750</td>\n",
       "      <td>0.242</td>\n",
       "      <td>51750.0</td>\n",
       "      <td>1</td>\n",
       "      <td>6</td>\n",
       "    </tr>\n",
       "    <tr>\n",
       "      <th>7</th>\n",
       "      <td>51750</td>\n",
       "      <td>0.251</td>\n",
       "      <td>51750.0</td>\n",
       "      <td>1</td>\n",
       "      <td>7</td>\n",
       "    </tr>\n",
       "    <tr>\n",
       "      <th>8</th>\n",
       "      <td>51750</td>\n",
       "      <td>0.260</td>\n",
       "      <td>51750.0</td>\n",
       "      <td>1</td>\n",
       "      <td>8</td>\n",
       "    </tr>\n",
       "    <tr>\n",
       "      <th>9</th>\n",
       "      <td>51750</td>\n",
       "      <td>0.270</td>\n",
       "      <td>51750.0</td>\n",
       "      <td>1</td>\n",
       "      <td>9</td>\n",
       "    </tr>\n",
       "    <tr>\n",
       "      <th>10</th>\n",
       "      <td>51750</td>\n",
       "      <td>0.279</td>\n",
       "      <td>51750.0</td>\n",
       "      <td>1</td>\n",
       "      <td>10</td>\n",
       "    </tr>\n",
       "    <tr>\n",
       "      <th>11</th>\n",
       "      <td>8147320</td>\n",
       "      <td>0.287</td>\n",
       "      <td>51750.0</td>\n",
       "      <td>1</td>\n",
       "      <td>11</td>\n",
       "    </tr>\n",
       "    <tr>\n",
       "      <th>12</th>\n",
       "      <td>8147320</td>\n",
       "      <td>0.295</td>\n",
       "      <td>8147320.0</td>\n",
       "      <td>1</td>\n",
       "      <td>12</td>\n",
       "    </tr>\n",
       "    <tr>\n",
       "      <th>13</th>\n",
       "      <td>15252415</td>\n",
       "      <td>0.303</td>\n",
       "      <td>8147320.0</td>\n",
       "      <td>1</td>\n",
       "      <td>13</td>\n",
       "    </tr>\n",
       "    <tr>\n",
       "      <th>14</th>\n",
       "      <td>15252415</td>\n",
       "      <td>0.311</td>\n",
       "      <td>15252415.0</td>\n",
       "      <td>1</td>\n",
       "      <td>14</td>\n",
       "    </tr>\n",
       "    <tr>\n",
       "      <th>15</th>\n",
       "      <td>21658626</td>\n",
       "      <td>0.318</td>\n",
       "      <td>15252415.0</td>\n",
       "      <td>1</td>\n",
       "      <td>15</td>\n",
       "    </tr>\n",
       "    <tr>\n",
       "      <th>16</th>\n",
       "      <td>18255231</td>\n",
       "      <td>0.326</td>\n",
       "      <td>21658626.0</td>\n",
       "      <td>1</td>\n",
       "      <td>16</td>\n",
       "    </tr>\n",
       "    <tr>\n",
       "      <th>17</th>\n",
       "      <td>23258557</td>\n",
       "      <td>0.334</td>\n",
       "      <td>18255231.0</td>\n",
       "      <td>1</td>\n",
       "      <td>17</td>\n",
       "    </tr>\n",
       "    <tr>\n",
       "      <th>18</th>\n",
       "      <td>42795956</td>\n",
       "      <td>0.342</td>\n",
       "      <td>23258557.0</td>\n",
       "      <td>1</td>\n",
       "      <td>18</td>\n",
       "    </tr>\n",
       "    <tr>\n",
       "      <th>19</th>\n",
       "      <td>20103570</td>\n",
       "      <td>0.349</td>\n",
       "      <td>42795956.0</td>\n",
       "      <td>1</td>\n",
       "      <td>19</td>\n",
       "    </tr>\n",
       "    <tr>\n",
       "      <th>20</th>\n",
       "      <td>18295067</td>\n",
       "      <td>0.357</td>\n",
       "      <td>20103570.0</td>\n",
       "      <td>1</td>\n",
       "      <td>20</td>\n",
       "    </tr>\n",
       "    <tr>\n",
       "      <th>21</th>\n",
       "      <td>16359359</td>\n",
       "      <td>0.364</td>\n",
       "      <td>18295067.0</td>\n",
       "      <td>1</td>\n",
       "      <td>21</td>\n",
       "    </tr>\n",
       "    <tr>\n",
       "      <th>22</th>\n",
       "      <td>9451357</td>\n",
       "      <td>0.372</td>\n",
       "      <td>16359359.0</td>\n",
       "      <td>1</td>\n",
       "      <td>22</td>\n",
       "    </tr>\n",
       "  </tbody>\n",
       "</table>\n",
       "</div>"
      ],
      "text/plain": [
       "    Education  Education Index Lag 1  Education Lag 1  Intercept  trend\n",
       "1       51750                  0.194          51750.0          1      1\n",
       "2       51750                  0.203          51750.0          1      2\n",
       "3       51750                  0.213          51750.0          1      3\n",
       "4       51750                  0.223          51750.0          1      4\n",
       "5       51750                  0.232          51750.0          1      5\n",
       "6       51750                  0.242          51750.0          1      6\n",
       "7       51750                  0.251          51750.0          1      7\n",
       "8       51750                  0.260          51750.0          1      8\n",
       "9       51750                  0.270          51750.0          1      9\n",
       "10      51750                  0.279          51750.0          1     10\n",
       "11    8147320                  0.287          51750.0          1     11\n",
       "12    8147320                  0.295        8147320.0          1     12\n",
       "13   15252415                  0.303        8147320.0          1     13\n",
       "14   15252415                  0.311       15252415.0          1     14\n",
       "15   21658626                  0.318       15252415.0          1     15\n",
       "16   18255231                  0.326       21658626.0          1     16\n",
       "17   23258557                  0.334       18255231.0          1     17\n",
       "18   42795956                  0.342       23258557.0          1     18\n",
       "19   20103570                  0.349       42795956.0          1     19\n",
       "20   18295067                  0.357       20103570.0          1     20\n",
       "21   16359359                  0.364       18295067.0          1     21\n",
       "22    9451357                  0.372       16359359.0          1     22"
      ]
     },
     "execution_count": 21,
     "metadata": {},
     "output_type": "execute_result"
    }
   ],
   "source": [
    "X"
   ]
  },
  {
   "cell_type": "code",
   "execution_count": 22,
   "metadata": {},
   "outputs": [
    {
     "name": "stdout",
     "output_type": "stream",
     "text": [
      "                            OLS Regression Results                            \n",
      "==============================================================================\n",
      "Dep. Variable:        Education Index   R-squared:                       1.000\n",
      "Model:                            OLS   Adj. R-squared:                  1.000\n",
      "Method:                 Least Squares   F-statistic:                 1.184e+04\n",
      "Date:                Sun, 18 Nov 2018   Prob (F-statistic):           4.95e-29\n",
      "Time:                        16:54:03   Log-Likelihood:                 120.90\n",
      "No. Observations:                  22   AIC:                            -231.8\n",
      "Df Residuals:                      17   BIC:                            -226.3\n",
      "Df Model:                           4                                         \n",
      "Covariance Type:            nonrobust                                         \n",
      "=========================================================================================\n",
      "                            coef    std err          t      P>|t|      [0.025      0.975]\n",
      "-----------------------------------------------------------------------------------------\n",
      "Education              2.056e-11   3.81e-11      0.540      0.596   -5.98e-11    1.01e-10\n",
      "Education Index Lag 1     1.1376      0.095     11.952      0.000       0.937       1.338\n",
      "Education Lag 1        6.496e-11   4.55e-11      1.429      0.171   -3.09e-11    1.61e-10\n",
      "Intercept                -0.0153      0.018     -0.847      0.409      -0.053       0.023\n",
      "trend                    -0.0015      0.001     -1.785      0.092      -0.003       0.000\n",
      "==============================================================================\n",
      "Omnibus:                        5.461   Durbin-Watson:                   2.107\n",
      "Prob(Omnibus):                  0.065   Jarque-Bera (JB):                4.639\n",
      "Skew:                          -0.218   Prob(JB):                       0.0983\n",
      "Kurtosis:                       5.207   Cond. No.                     8.17e+09\n",
      "==============================================================================\n",
      "\n",
      "Warnings:\n",
      "[1] Standard Errors assume that the covariance matrix of the errors is correctly specified.\n",
      "[2] The condition number is large, 8.17e+09. This might indicate that there are\n",
      "strong multicollinearity or other numerical problems.\n"
     ]
    }
   ],
   "source": [
    "#fit the regression\n",
    "fit_1 = sm.OLS(y, X).fit()\n",
    "\n",
    "# Inspect the results\n",
    "print(fit_1.summary())"
   ]
  },
  {
   "cell_type": "markdown",
   "metadata": {},
   "source": [
    "A P value of 0.171 suggests that if the null hypothesis were true (that Education Lag 1 funding has no effect on Education Index), we would expect this kind of result 17% of the time. This is not a statistically significant effect. "
   ]
  },
  {
   "cell_type": "code",
   "execution_count": 23,
   "metadata": {},
   "outputs": [
    {
     "data": {
      "text/plain": [
       "(array([1., 0., 1., 2., 6., 7., 3., 1., 0., 1.]),\n",
       " array([-0.00279446, -0.00225833, -0.00172221, -0.00118608, -0.00064996,\n",
       "        -0.00011384,  0.00042229,  0.00095841,  0.00149454,  0.00203066,\n",
       "         0.00256678]),\n",
       " <a list of 10 Patch objects>)"
      ]
     },
     "execution_count": 23,
     "metadata": {},
     "output_type": "execute_result"
    },
    {
     "data": {
      "image/png": "[encoded data removed]",
      "text/plain": [
       "<Figure size 432x288 with 1 Axes>"
      ]
     },
     "metadata": {},
     "output_type": "display_data"
    }
   ],
   "source": [
    "#plot the residuals, it should look roughly normally distributed around 0\n",
    "plt.hist(fit_1.resid)"
   ]
  },
  {
   "cell_type": "code",
   "execution_count": 24,
   "metadata": {},
   "outputs": [
    {
     "name": "stdout",
     "output_type": "stream",
     "text": [
      "                            OLS Regression Results                            \n",
      "==============================================================================\n",
      "Dep. Variable:        Education Index   R-squared:                       0.655\n",
      "Model:                            OLS   Adj. R-squared:                  0.638\n",
      "Method:                 Least Squares   F-statistic:                     37.97\n",
      "Date:                Sun, 18 Nov 2018   Prob (F-statistic):           5.09e-06\n",
      "Time:                        16:54:03   Log-Likelihood:                 45.351\n",
      "No. Observations:                  22   AIC:                            -86.70\n",
      "Df Residuals:                      20   BIC:                            -84.52\n",
      "Df Model:                           1                                         \n",
      "Covariance Type:            nonrobust                                         \n",
      "===================================================================================\n",
      "                      coef    std err          t      P>|t|      [0.025      0.975]\n",
      "-----------------------------------------------------------------------------------\n",
      "Education Lag 1  3.754e-09   6.09e-10      6.162      0.000    2.48e-09    5.02e-09\n",
      "Intercept           0.2602      0.009     28.975      0.000       0.241       0.279\n",
      "==============================================================================\n",
      "Omnibus:                        1.228   Durbin-Watson:                   0.756\n",
      "Prob(Omnibus):                  0.541   Jarque-Bera (JB):                1.095\n",
      "Skew:                          -0.482   Prob(JB):                        0.578\n",
      "Kurtosis:                       2.483   Cond. No.                     1.92e+07\n",
      "==============================================================================\n",
      "\n",
      "Warnings:\n",
      "[1] Standard Errors assume that the covariance matrix of the errors is correctly specified.\n",
      "[2] The condition number is large, 1.92e+07. This might indicate that there are\n",
      "strong multicollinearity or other numerical problems.\n"
     ]
    }
   ],
   "source": [
    "#fit the model again, taking away the predictors we are not interested in \n",
    "fit_2 = sm.OLS(y, X.drop(['trend','Education','Education Index Lag 1'], axis = 1)).fit()\n",
    "\n",
    "# Inspect the results\n",
    "print(fit_2.summary())"
   ]
  },
  {
   "cell_type": "markdown",
   "metadata": {},
   "source": [
    "Conclusion \n",
    "* Using Education funding from the previous year, to predict Education Index performance in the current year, the predictive power (R squared) is only 0.638, indicated that Education funding is not a strong predictor of Education Index performance"
   ]
  },
  {
   "cell_type": "code",
   "execution_count": 25,
   "metadata": {},
   "outputs": [
    {
     "data": {
      "text/plain": [
       "(array([2., 1., 1., 2., 2., 3., 4., 4., 1., 2.]),\n",
       " array([-0.06382497, -0.05220101, -0.04057705, -0.02895309, -0.01732913,\n",
       "        -0.00570518,  0.00591878,  0.01754274,  0.0291667 ,  0.04079066,\n",
       "         0.05241462]),\n",
       " <a list of 10 Patch objects>)"
      ]
     },
     "execution_count": 25,
     "metadata": {},
     "output_type": "execute_result"
    },
    {
     "data": {
      "image/png": "[encoded data removed]",
      "text/plain": [
       "<Figure size 432x288 with 1 Axes>"
      ]
     },
     "metadata": {},
     "output_type": "display_data"
    }
   ],
   "source": [
    "#plot the residuals of the new fit\n",
    "plt.hist(fit_2.resid)"
   ]
  },
  {
   "cell_type": "code",
   "execution_count": 26,
   "metadata": {},
   "outputs": [
    {
     "data": {
      "text/html": [
       "<div>\n",
       "<style scoped>\n",
       "    .dataframe tbody tr th:only-of-type {\n",
       "        vertical-align: middle;\n",
       "    }\n",
       "\n",
       "    .dataframe tbody tr th {\n",
       "        vertical-align: top;\n",
       "    }\n",
       "\n",
       "    .dataframe thead th {\n",
       "        text-align: right;\n",
       "    }\n",
       "</style>\n",
       "<table border=\"1\" class=\"dataframe\">\n",
       "  <thead>\n",
       "    <tr style=\"text-align: right;\">\n",
       "      <th></th>\n",
       "      <th>Year</th>\n",
       "      <th>Education Index</th>\n",
       "      <th>Agri Employment</th>\n",
       "      <th>Income Index</th>\n",
       "      <th>Life Expectancy Index</th>\n",
       "    </tr>\n",
       "  </thead>\n",
       "  <tbody>\n",
       "    <tr>\n",
       "      <th>19</th>\n",
       "      <td>2011</td>\n",
       "      <td>0.357</td>\n",
       "      <td>63.2</td>\n",
       "      <td>0.379</td>\n",
       "      <td>0.447</td>\n",
       "    </tr>\n",
       "    <tr>\n",
       "      <th>20</th>\n",
       "      <td>2012</td>\n",
       "      <td>0.364</td>\n",
       "      <td>61.2</td>\n",
       "      <td>0.404</td>\n",
       "      <td>0.458</td>\n",
       "    </tr>\n",
       "    <tr>\n",
       "      <th>21</th>\n",
       "      <td>2013</td>\n",
       "      <td>0.372</td>\n",
       "      <td>58.2</td>\n",
       "      <td>0.423</td>\n",
       "      <td>0.468</td>\n",
       "    </tr>\n",
       "    <tr>\n",
       "      <th>22</th>\n",
       "      <td>2014</td>\n",
       "      <td>0.374</td>\n",
       "      <td>57.7</td>\n",
       "      <td>0.424</td>\n",
       "      <td>0.476</td>\n",
       "    </tr>\n",
       "    <tr>\n",
       "      <th>23</th>\n",
       "      <td>2015</td>\n",
       "      <td>0.376</td>\n",
       "      <td>60.9</td>\n",
       "      <td>0.387</td>\n",
       "      <td>0.483</td>\n",
       "    </tr>\n",
       "    <tr>\n",
       "      <th>24</th>\n",
       "      <td>2016</td>\n",
       "      <td>0.382</td>\n",
       "      <td>60.6</td>\n",
       "      <td>0.377</td>\n",
       "      <td>0.490</td>\n",
       "    </tr>\n",
       "    <tr>\n",
       "      <th>25</th>\n",
       "      <td>2017</td>\n",
       "      <td>0.390</td>\n",
       "      <td>60.6</td>\n",
       "      <td>0.380</td>\n",
       "      <td>0.496</td>\n",
       "    </tr>\n",
       "  </tbody>\n",
       "</table>\n",
       "</div>"
      ],
      "text/plain": [
       "    Year  Education Index  Agri Employment  Income Index  \\\n",
       "19  2011            0.357             63.2         0.379   \n",
       "20  2012            0.364             61.2         0.404   \n",
       "21  2013            0.372             58.2         0.423   \n",
       "22  2014            0.374             57.7         0.424   \n",
       "23  2015            0.376             60.9         0.387   \n",
       "24  2016            0.382             60.6         0.377   \n",
       "25  2017            0.390             60.6         0.380   \n",
       "\n",
       "    Life Expectancy Index  \n",
       "19                  0.447  \n",
       "20                  0.458  \n",
       "21                  0.468  \n",
       "22                  0.476  \n",
       "23                  0.483  \n",
       "24                  0.490  \n",
       "25                  0.496  "
      ]
     },
     "execution_count": 26,
     "metadata": {},
     "output_type": "execute_result"
    }
   ],
   "source": [
    "#This part I can't quite get to work. Using the fit_2, \n",
    "#I want to predict the 2014 value based on the 2013 Education Funding\n",
    "hdi_df = pd.read_csv('hdi.csv')\n",
    "hdi_df_p = hdi_df[hdi_df['Year'] > 2010]\n",
    "hdi_df_p"
   ]
  },
  {
   "cell_type": "code",
   "execution_count": 27,
   "metadata": {},
   "outputs": [
    {
     "data": {
      "text/html": [
       "<div>\n",
       "<style scoped>\n",
       "    .dataframe tbody tr th:only-of-type {\n",
       "        vertical-align: middle;\n",
       "    }\n",
       "\n",
       "    .dataframe tbody tr th {\n",
       "        vertical-align: top;\n",
       "    }\n",
       "\n",
       "    .dataframe thead th {\n",
       "        text-align: right;\n",
       "    }\n",
       "</style>\n",
       "<table border=\"1\" class=\"dataframe\">\n",
       "  <thead>\n",
       "    <tr style=\"text-align: right;\">\n",
       "      <th></th>\n",
       "      <th>Year</th>\n",
       "      <th>Agriculture</th>\n",
       "      <th>Government</th>\n",
       "      <th>Education</th>\n",
       "      <th>Health</th>\n",
       "    </tr>\n",
       "  </thead>\n",
       "  <tbody>\n",
       "    <tr>\n",
       "      <th>21</th>\n",
       "      <td>2013</td>\n",
       "      <td>24639726.58</td>\n",
       "      <td>68981822.72</td>\n",
       "      <td>16359359.69</td>\n",
       "      <td>83156256.84</td>\n",
       "    </tr>\n",
       "  </tbody>\n",
       "</table>\n",
       "</div>"
      ],
      "text/plain": [
       "    Year  Agriculture   Government    Education       Health\n",
       "21  2013  24639726.58  68981822.72  16359359.69  83156256.84"
      ]
     },
     "execution_count": 27,
     "metadata": {},
     "output_type": "execute_result"
    }
   ],
   "source": [
    "#check the 2014 values as starting point\n",
    "project_p = df[df['Year'] == 2013]\n",
    "project_p"
   ]
  },
  {
   "cell_type": "code",
   "execution_count": 28,
   "metadata": {},
   "outputs": [
    {
     "name": "stdout",
     "output_type": "stream",
     "text": [
      "Using the 2013 Education spending as a predictor, the 2014 Education Index value should be[0.32158538]\n"
     ]
    }
   ],
   "source": [
    "#This part I can't get to work, \n",
    "#I want to plug in the Education Index value in 2014, \n",
    "#and use the fit_2 model to predict what the next value will be.\n",
    "print(\"Using the 2013 Education spending as a predictor, the 2014 Education Index value should be\" + str(fit_2.predict([16359359.69, 1])))"
   ]
  },
  {
   "cell_type": "markdown",
   "metadata": {},
   "source": [
    "Lets look at Health"
   ]
  },
  {
   "cell_type": "code",
   "execution_count": 29,
   "metadata": {},
   "outputs": [
    {
     "data": {
      "image/png": "[encoded data removed]",
      "text/plain": [
       "<Figure size 1440x720 with 1 Axes>"
      ]
     },
     "metadata": {},
     "output_type": "display_data"
    }
   ],
   "source": [
    "health_i = df_c[['Life Expectancy Index']]\n",
    "health_i.rolling(6).mean().plot(figsize=(20,10), linewidth=5, fontsize=20)\n",
    "plt.xlabel('Year', fontsize=20);"
   ]
  },
  {
   "cell_type": "code",
   "execution_count": 30,
   "metadata": {},
   "outputs": [
    {
     "data": {
      "image/png": "[encoded data removed]",
      "text/plain": [
       "<Figure size 1440x720 with 1 Axes>"
      ]
     },
     "metadata": {},
     "output_type": "display_data"
    }
   ],
   "source": [
    "health_i = df_c[['Health']]\n",
    "health_i.rolling(6).mean().plot(figsize=(20,10), linewidth=5, fontsize=20)\n",
    "plt.xlabel('Year', fontsize=20);"
   ]
  },
  {
   "cell_type": "code",
   "execution_count": 31,
   "metadata": {},
   "outputs": [],
   "source": [
    "y = df_c[['Life Expectancy Index']]\n",
    "X = df_c[['Health']].astype('int64')"
   ]
  },
  {
   "cell_type": "code",
   "execution_count": 32,
   "metadata": {},
   "outputs": [
    {
     "data": {
      "text/html": [
       "<div>\n",
       "<style scoped>\n",
       "    .dataframe tbody tr th:only-of-type {\n",
       "        vertical-align: middle;\n",
       "    }\n",
       "\n",
       "    .dataframe tbody tr th {\n",
       "        vertical-align: top;\n",
       "    }\n",
       "\n",
       "    .dataframe thead th {\n",
       "        text-align: right;\n",
       "    }\n",
       "</style>\n",
       "<table border=\"1\" class=\"dataframe\">\n",
       "  <thead>\n",
       "    <tr style=\"text-align: right;\">\n",
       "      <th></th>\n",
       "      <th>Health</th>\n",
       "    </tr>\n",
       "  </thead>\n",
       "  <tbody>\n",
       "    <tr>\n",
       "      <th>0</th>\n",
       "      <td>0</td>\n",
       "    </tr>\n",
       "    <tr>\n",
       "      <th>1</th>\n",
       "      <td>0</td>\n",
       "    </tr>\n",
       "    <tr>\n",
       "      <th>2</th>\n",
       "      <td>0</td>\n",
       "    </tr>\n",
       "    <tr>\n",
       "      <th>3</th>\n",
       "      <td>0</td>\n",
       "    </tr>\n",
       "    <tr>\n",
       "      <th>4</th>\n",
       "      <td>0</td>\n",
       "    </tr>\n",
       "    <tr>\n",
       "      <th>5</th>\n",
       "      <td>0</td>\n",
       "    </tr>\n",
       "    <tr>\n",
       "      <th>6</th>\n",
       "      <td>0</td>\n",
       "    </tr>\n",
       "    <tr>\n",
       "      <th>7</th>\n",
       "      <td>0</td>\n",
       "    </tr>\n",
       "    <tr>\n",
       "      <th>8</th>\n",
       "      <td>2321160</td>\n",
       "    </tr>\n",
       "    <tr>\n",
       "      <th>9</th>\n",
       "      <td>2321160</td>\n",
       "    </tr>\n",
       "    <tr>\n",
       "      <th>10</th>\n",
       "      <td>2920368</td>\n",
       "    </tr>\n",
       "    <tr>\n",
       "      <th>11</th>\n",
       "      <td>6721179</td>\n",
       "    </tr>\n",
       "    <tr>\n",
       "      <th>12</th>\n",
       "      <td>21746150</td>\n",
       "    </tr>\n",
       "    <tr>\n",
       "      <th>13</th>\n",
       "      <td>28054118</td>\n",
       "    </tr>\n",
       "    <tr>\n",
       "      <th>14</th>\n",
       "      <td>36641160</td>\n",
       "    </tr>\n",
       "    <tr>\n",
       "      <th>15</th>\n",
       "      <td>62660128</td>\n",
       "    </tr>\n",
       "    <tr>\n",
       "      <th>16</th>\n",
       "      <td>59133418</td>\n",
       "    </tr>\n",
       "    <tr>\n",
       "      <th>17</th>\n",
       "      <td>78799390</td>\n",
       "    </tr>\n",
       "    <tr>\n",
       "      <th>18</th>\n",
       "      <td>116650645</td>\n",
       "    </tr>\n",
       "    <tr>\n",
       "      <th>19</th>\n",
       "      <td>86708254</td>\n",
       "    </tr>\n",
       "    <tr>\n",
       "      <th>20</th>\n",
       "      <td>87994256</td>\n",
       "    </tr>\n",
       "    <tr>\n",
       "      <th>21</th>\n",
       "      <td>83156256</td>\n",
       "    </tr>\n",
       "    <tr>\n",
       "      <th>22</th>\n",
       "      <td>51838631</td>\n",
       "    </tr>\n",
       "  </tbody>\n",
       "</table>\n",
       "</div>"
      ],
      "text/plain": [
       "       Health\n",
       "0           0\n",
       "1           0\n",
       "2           0\n",
       "3           0\n",
       "4           0\n",
       "5           0\n",
       "6           0\n",
       "7           0\n",
       "8     2321160\n",
       "9     2321160\n",
       "10    2920368\n",
       "11    6721179\n",
       "12   21746150\n",
       "13   28054118\n",
       "14   36641160\n",
       "15   62660128\n",
       "16   59133418\n",
       "17   78799390\n",
       "18  116650645\n",
       "19   86708254\n",
       "20   87994256\n",
       "21   83156256\n",
       "22   51838631"
      ]
     },
     "execution_count": 32,
     "metadata": {},
     "output_type": "execute_result"
    }
   ],
   "source": [
    "X"
   ]
  },
  {
   "cell_type": "code",
   "execution_count": 33,
   "metadata": {},
   "outputs": [
    {
     "data": {
      "image/png": "[encoded data removed]",
      "text/plain": [
       "<Figure size 432x288 with 1 Axes>"
      ]
     },
     "execution_count": 33,
     "metadata": {},
     "output_type": "execute_result"
    },
    {
     "data": {
      "image/png": "[encoded data removed]",
      "text/plain": [
       "<Figure size 432x288 with 1 Axes>"
      ]
     },
     "metadata": {},
     "output_type": "display_data"
    }
   ],
   "source": [
    "tsaplots.plot_acf(y)"
   ]
  },
  {
   "cell_type": "code",
   "execution_count": 34,
   "metadata": {},
   "outputs": [],
   "source": [
    "X['Life Expectancy Index Lag 1'] = y.shift(1)\n",
    "X['Health Lag 1'] = X['Health'].shift(1)\n",
    "X['Intercept'] = 1"
   ]
  },
  {
   "cell_type": "code",
   "execution_count": 35,
   "metadata": {},
   "outputs": [],
   "source": [
    "X = X.iloc[1:,:]\n",
    "\n",
    "y = y.iloc[1:,:]"
   ]
  },
  {
   "cell_type": "code",
   "execution_count": 36,
   "metadata": {},
   "outputs": [
    {
     "name": "stderr",
     "output_type": "stream",
     "text": [
      "/anaconda3/lib/python3.6/site-packages/ipykernel_launcher.py:2: SettingWithCopyWarning: \n",
      "A value is trying to be set on a copy of a slice from a DataFrame.\n",
      "Try using .loc[row_indexer,col_indexer] = value instead\n",
      "\n",
      "See the caveats in the documentation: http://pandas.pydata.org/pandas-docs/stable/indexing.html#indexing-view-versus-copy\n",
      "  \n"
     ]
    },
    {
     "data": {
      "text/html": [
       "<div>\n",
       "<style scoped>\n",
       "    .dataframe tbody tr th:only-of-type {\n",
       "        vertical-align: middle;\n",
       "    }\n",
       "\n",
       "    .dataframe tbody tr th {\n",
       "        vertical-align: top;\n",
       "    }\n",
       "\n",
       "    .dataframe thead th {\n",
       "        text-align: right;\n",
       "    }\n",
       "</style>\n",
       "<table border=\"1\" class=\"dataframe\">\n",
       "  <thead>\n",
       "    <tr style=\"text-align: right;\">\n",
       "      <th></th>\n",
       "      <th>Health</th>\n",
       "      <th>Life Expectancy Index Lag 1</th>\n",
       "      <th>Health Lag 1</th>\n",
       "      <th>Intercept</th>\n",
       "      <th>trend</th>\n",
       "    </tr>\n",
       "  </thead>\n",
       "  <tbody>\n",
       "    <tr>\n",
       "      <th>1</th>\n",
       "      <td>0</td>\n",
       "      <td>0.250</td>\n",
       "      <td>0.0</td>\n",
       "      <td>1</td>\n",
       "      <td>1</td>\n",
       "    </tr>\n",
       "    <tr>\n",
       "      <th>2</th>\n",
       "      <td>0</td>\n",
       "      <td>0.244</td>\n",
       "      <td>0.0</td>\n",
       "      <td>1</td>\n",
       "      <td>2</td>\n",
       "    </tr>\n",
       "    <tr>\n",
       "      <th>3</th>\n",
       "      <td>0</td>\n",
       "      <td>0.242</td>\n",
       "      <td>0.0</td>\n",
       "      <td>1</td>\n",
       "      <td>3</td>\n",
       "    </tr>\n",
       "    <tr>\n",
       "      <th>4</th>\n",
       "      <td>0</td>\n",
       "      <td>0.242</td>\n",
       "      <td>0.0</td>\n",
       "      <td>1</td>\n",
       "      <td>4</td>\n",
       "    </tr>\n",
       "    <tr>\n",
       "      <th>5</th>\n",
       "      <td>0</td>\n",
       "      <td>0.246</td>\n",
       "      <td>0.0</td>\n",
       "      <td>1</td>\n",
       "      <td>5</td>\n",
       "    </tr>\n",
       "    <tr>\n",
       "      <th>6</th>\n",
       "      <td>0</td>\n",
       "      <td>0.253</td>\n",
       "      <td>0.0</td>\n",
       "      <td>1</td>\n",
       "      <td>6</td>\n",
       "    </tr>\n",
       "    <tr>\n",
       "      <th>7</th>\n",
       "      <td>0</td>\n",
       "      <td>0.262</td>\n",
       "      <td>0.0</td>\n",
       "      <td>1</td>\n",
       "      <td>7</td>\n",
       "    </tr>\n",
       "    <tr>\n",
       "      <th>8</th>\n",
       "      <td>2321160</td>\n",
       "      <td>0.274</td>\n",
       "      <td>0.0</td>\n",
       "      <td>1</td>\n",
       "      <td>8</td>\n",
       "    </tr>\n",
       "    <tr>\n",
       "      <th>9</th>\n",
       "      <td>2321160</td>\n",
       "      <td>0.288</td>\n",
       "      <td>2321160.0</td>\n",
       "      <td>1</td>\n",
       "      <td>9</td>\n",
       "    </tr>\n",
       "    <tr>\n",
       "      <th>10</th>\n",
       "      <td>2920368</td>\n",
       "      <td>0.302</td>\n",
       "      <td>2321160.0</td>\n",
       "      <td>1</td>\n",
       "      <td>10</td>\n",
       "    </tr>\n",
       "    <tr>\n",
       "      <th>11</th>\n",
       "      <td>6721179</td>\n",
       "      <td>0.318</td>\n",
       "      <td>2920368.0</td>\n",
       "      <td>1</td>\n",
       "      <td>11</td>\n",
       "    </tr>\n",
       "    <tr>\n",
       "      <th>12</th>\n",
       "      <td>21746150</td>\n",
       "      <td>0.333</td>\n",
       "      <td>6721179.0</td>\n",
       "      <td>1</td>\n",
       "      <td>12</td>\n",
       "    </tr>\n",
       "    <tr>\n",
       "      <th>13</th>\n",
       "      <td>28054118</td>\n",
       "      <td>0.349</td>\n",
       "      <td>21746150.0</td>\n",
       "      <td>1</td>\n",
       "      <td>13</td>\n",
       "    </tr>\n",
       "    <tr>\n",
       "      <th>14</th>\n",
       "      <td>36641160</td>\n",
       "      <td>0.363</td>\n",
       "      <td>28054118.0</td>\n",
       "      <td>1</td>\n",
       "      <td>14</td>\n",
       "    </tr>\n",
       "    <tr>\n",
       "      <th>15</th>\n",
       "      <td>62660128</td>\n",
       "      <td>0.378</td>\n",
       "      <td>36641160.0</td>\n",
       "      <td>1</td>\n",
       "      <td>15</td>\n",
       "    </tr>\n",
       "    <tr>\n",
       "      <th>16</th>\n",
       "      <td>59133418</td>\n",
       "      <td>0.392</td>\n",
       "      <td>62660128.0</td>\n",
       "      <td>1</td>\n",
       "      <td>16</td>\n",
       "    </tr>\n",
       "    <tr>\n",
       "      <th>17</th>\n",
       "      <td>78799390</td>\n",
       "      <td>0.407</td>\n",
       "      <td>59133418.0</td>\n",
       "      <td>1</td>\n",
       "      <td>17</td>\n",
       "    </tr>\n",
       "    <tr>\n",
       "      <th>18</th>\n",
       "      <td>116650645</td>\n",
       "      <td>0.421</td>\n",
       "      <td>78799390.0</td>\n",
       "      <td>1</td>\n",
       "      <td>18</td>\n",
       "    </tr>\n",
       "    <tr>\n",
       "      <th>19</th>\n",
       "      <td>86708254</td>\n",
       "      <td>0.434</td>\n",
       "      <td>116650645.0</td>\n",
       "      <td>1</td>\n",
       "      <td>19</td>\n",
       "    </tr>\n",
       "    <tr>\n",
       "      <th>20</th>\n",
       "      <td>87994256</td>\n",
       "      <td>0.447</td>\n",
       "      <td>86708254.0</td>\n",
       "      <td>1</td>\n",
       "      <td>20</td>\n",
       "    </tr>\n",
       "    <tr>\n",
       "      <th>21</th>\n",
       "      <td>83156256</td>\n",
       "      <td>0.458</td>\n",
       "      <td>87994256.0</td>\n",
       "      <td>1</td>\n",
       "      <td>21</td>\n",
       "    </tr>\n",
       "    <tr>\n",
       "      <th>22</th>\n",
       "      <td>51838631</td>\n",
       "      <td>0.468</td>\n",
       "      <td>83156256.0</td>\n",
       "      <td>1</td>\n",
       "      <td>22</td>\n",
       "    </tr>\n",
       "  </tbody>\n",
       "</table>\n",
       "</div>"
      ],
      "text/plain": [
       "       Health  Life Expectancy Index Lag 1  Health Lag 1  Intercept  trend\n",
       "1           0                        0.250           0.0          1      1\n",
       "2           0                        0.244           0.0          1      2\n",
       "3           0                        0.242           0.0          1      3\n",
       "4           0                        0.242           0.0          1      4\n",
       "5           0                        0.246           0.0          1      5\n",
       "6           0                        0.253           0.0          1      6\n",
       "7           0                        0.262           0.0          1      7\n",
       "8     2321160                        0.274           0.0          1      8\n",
       "9     2321160                        0.288     2321160.0          1      9\n",
       "10    2920368                        0.302     2321160.0          1     10\n",
       "11    6721179                        0.318     2920368.0          1     11\n",
       "12   21746150                        0.333     6721179.0          1     12\n",
       "13   28054118                        0.349    21746150.0          1     13\n",
       "14   36641160                        0.363    28054118.0          1     14\n",
       "15   62660128                        0.378    36641160.0          1     15\n",
       "16   59133418                        0.392    62660128.0          1     16\n",
       "17   78799390                        0.407    59133418.0          1     17\n",
       "18  116650645                        0.421    78799390.0          1     18\n",
       "19   86708254                        0.434   116650645.0          1     19\n",
       "20   87994256                        0.447    86708254.0          1     20\n",
       "21   83156256                        0.458    87994256.0          1     21\n",
       "22   51838631                        0.468    83156256.0          1     22"
      ]
     },
     "execution_count": 36,
     "metadata": {},
     "output_type": "execute_result"
    }
   ],
   "source": [
    "# trend\n",
    "X['trend'] = range(1,len(X.index)+1)\n",
    "\n",
    "X"
   ]
  },
  {
   "cell_type": "code",
   "execution_count": 37,
   "metadata": {},
   "outputs": [
    {
     "data": {
      "text/html": [
       "<div>\n",
       "<style scoped>\n",
       "    .dataframe tbody tr th:only-of-type {\n",
       "        vertical-align: middle;\n",
       "    }\n",
       "\n",
       "    .dataframe tbody tr th {\n",
       "        vertical-align: top;\n",
       "    }\n",
       "\n",
       "    .dataframe thead th {\n",
       "        text-align: right;\n",
       "    }\n",
       "</style>\n",
       "<table border=\"1\" class=\"dataframe\">\n",
       "  <thead>\n",
       "    <tr style=\"text-align: right;\">\n",
       "      <th></th>\n",
       "      <th>Life Expectancy Index</th>\n",
       "    </tr>\n",
       "  </thead>\n",
       "  <tbody>\n",
       "    <tr>\n",
       "      <th>1</th>\n",
       "      <td>0.244</td>\n",
       "    </tr>\n",
       "    <tr>\n",
       "      <th>2</th>\n",
       "      <td>0.242</td>\n",
       "    </tr>\n",
       "    <tr>\n",
       "      <th>3</th>\n",
       "      <td>0.242</td>\n",
       "    </tr>\n",
       "    <tr>\n",
       "      <th>4</th>\n",
       "      <td>0.246</td>\n",
       "    </tr>\n",
       "    <tr>\n",
       "      <th>5</th>\n",
       "      <td>0.253</td>\n",
       "    </tr>\n",
       "  </tbody>\n",
       "</table>\n",
       "</div>"
      ],
      "text/plain": [
       "   Life Expectancy Index\n",
       "1                  0.244\n",
       "2                  0.242\n",
       "3                  0.242\n",
       "4                  0.246\n",
       "5                  0.253"
      ]
     },
     "execution_count": 37,
     "metadata": {},
     "output_type": "execute_result"
    }
   ],
   "source": [
    "y.head(5)"
   ]
  },
  {
   "cell_type": "code",
   "execution_count": 38,
   "metadata": {},
   "outputs": [
    {
     "name": "stdout",
     "output_type": "stream",
     "text": [
      "                              OLS Regression Results                             \n",
      "=================================================================================\n",
      "Dep. Variable:     Life Expectancy Index   R-squared:                       0.999\n",
      "Model:                               OLS   Adj. R-squared:                  0.999\n",
      "Method:                    Least Squares   F-statistic:                     6347.\n",
      "Date:                   Sun, 18 Nov 2018   Prob (F-statistic):           9.88e-27\n",
      "Time:                           16:54:04   Log-Likelihood:                 104.49\n",
      "No. Observations:                     22   AIC:                            -199.0\n",
      "Df Residuals:                         17   BIC:                            -193.5\n",
      "Df Model:                              4                                         \n",
      "Covariance Type:               nonrobust                                         \n",
      "===============================================================================================\n",
      "                                  coef    std err          t      P>|t|      [0.025      0.975]\n",
      "-----------------------------------------------------------------------------------------------\n",
      "Health                       7.828e-11   3.84e-11      2.036      0.058   -2.83e-12    1.59e-10\n",
      "Life Expectancy Index Lag 1     0.7401      0.050     14.907      0.000       0.635       0.845\n",
      "Health Lag 1                -1.065e-10   4.47e-11     -2.386      0.029   -2.01e-10   -1.23e-11\n",
      "Intercept                       0.0535      0.011      5.011      0.000       0.031       0.076\n",
      "trend                           0.0039      0.000      8.107      0.000       0.003       0.005\n",
      "==============================================================================\n",
      "Omnibus:                        0.066   Durbin-Watson:                   1.241\n",
      "Prob(Omnibus):                  0.968   Jarque-Bera (JB):                0.278\n",
      "Skew:                           0.066   Prob(JB):                        0.870\n",
      "Kurtosis:                       2.465   Cond. No.                     6.89e+09\n",
      "==============================================================================\n",
      "\n",
      "Warnings:\n",
      "[1] Standard Errors assume that the covariance matrix of the errors is correctly specified.\n",
      "[2] The condition number is large, 6.89e+09. This might indicate that there are\n",
      "strong multicollinearity or other numerical problems.\n"
     ]
    }
   ],
   "source": [
    "fit_1 = sm.OLS(y, X).fit()\n",
    "\n",
    "# Inspect the results\n",
    "print(fit_1.summary())"
   ]
  },
  {
   "cell_type": "markdown",
   "metadata": {},
   "source": [
    "A P value of 0.029 suggests that if the null hypothesis were true (that Health Lag 1 funding has no effect on Education Index), we would expect this kind of result 2.9% of the time. As this is lower than the generally accepted level of statistical significance (5%), this is suggest there is enough evidence to reject the null hypothesis, and conclude that Health Lag 1 funding is a predictor of the Life Expectancy Index "
   ]
  },
  {
   "cell_type": "code",
   "execution_count": 39,
   "metadata": {},
   "outputs": [
    {
     "data": {
      "text/plain": [
       "(array([1., 1., 4., 2., 2., 4., 5., 1., 1., 1.]),\n",
       " array([-4.22356042e-03, -3.36268612e-03, -2.50181181e-03, -1.64093750e-03,\n",
       "        -7.80063197e-04,  8.08111097e-05,  9.41685416e-04,  1.80255972e-03,\n",
       "         2.66343403e-03,  3.52430834e-03,  4.38518264e-03]),\n",
       " <a list of 10 Patch objects>)"
      ]
     },
     "execution_count": 39,
     "metadata": {},
     "output_type": "execute_result"
    },
    {
     "data": {
      "image/png": "[encoded data removed]",
      "text/plain": [
       "<Figure size 432x288 with 1 Axes>"
      ]
     },
     "metadata": {},
     "output_type": "display_data"
    }
   ],
   "source": [
    "plt.hist(fit_1.resid)"
   ]
  },
  {
   "cell_type": "code",
   "execution_count": 40,
   "metadata": {},
   "outputs": [
    {
     "name": "stdout",
     "output_type": "stream",
     "text": [
      "                              OLS Regression Results                             \n",
      "=================================================================================\n",
      "Dep. Variable:     Life Expectancy Index   R-squared:                       0.836\n",
      "Model:                               OLS   Adj. R-squared:                  0.828\n",
      "Method:                    Least Squares   F-statistic:                     102.1\n",
      "Date:                   Sun, 18 Nov 2018   Prob (F-statistic):           2.66e-09\n",
      "Time:                           16:54:05   Log-Likelihood:                 43.982\n",
      "No. Observations:                     22   AIC:                            -83.96\n",
      "Df Residuals:                         20   BIC:                            -81.78\n",
      "Df Model:                              1                                         \n",
      "Covariance Type:               nonrobust                                         \n",
      "================================================================================\n",
      "                   coef    std err          t      P>|t|      [0.025      0.975]\n",
      "--------------------------------------------------------------------------------\n",
      "Health Lag 1  1.962e-09   1.94e-10     10.103      0.000    1.56e-09    2.37e-09\n",
      "Intercept        0.2850      0.009     30.162      0.000       0.265       0.305\n",
      "==============================================================================\n",
      "Omnibus:                        2.208   Durbin-Watson:                   0.539\n",
      "Prob(Omnibus):                  0.331   Jarque-Bera (JB):                1.313\n",
      "Skew:                          -0.299   Prob(JB):                        0.519\n",
      "Kurtosis:                       1.963   Cond. No.                     6.27e+07\n",
      "==============================================================================\n",
      "\n",
      "Warnings:\n",
      "[1] Standard Errors assume that the covariance matrix of the errors is correctly specified.\n",
      "[2] The condition number is large, 6.27e+07. This might indicate that there are\n",
      "strong multicollinearity or other numerical problems.\n"
     ]
    }
   ],
   "source": [
    "fit_2 = sm.OLS(y, X.drop(['trend','Health','Life Expectancy Index Lag 1'], axis = 1)).fit()\n",
    "\n",
    "# Inspect the results\n",
    "print(fit_2.summary())"
   ]
  },
  {
   "cell_type": "markdown",
   "metadata": {},
   "source": [
    "Conclusion \n",
    "* Using Health spending from the previous year, to predict Life Expectancy Index performance in the current year, the predicted power (R squared) is 0.828, indicating that Health spending is a reasonably strong predictor of Life Expectancy Index performance"
   ]
  },
  {
   "cell_type": "code",
   "execution_count": 41,
   "metadata": {},
   "outputs": [
    {
     "data": {
      "text/plain": [
       "(array([1., 0., 5., 1., 1., 4., 2., 1., 5., 2.]),\n",
       " array([-0.06692982, -0.05515979, -0.04338976, -0.03161973, -0.0198497 ,\n",
       "        -0.00807967,  0.00369036,  0.01546039,  0.02723042,  0.03900045,\n",
       "         0.05077048]),\n",
       " <a list of 10 Patch objects>)"
      ]
     },
     "execution_count": 41,
     "metadata": {},
     "output_type": "execute_result"
    },
    {
     "data": {
      "image/png": "[encoded data removed]",
      "text/plain": [
       "<Figure size 432x288 with 1 Axes>"
      ]
     },
     "metadata": {},
     "output_type": "display_data"
    }
   ],
   "source": [
    "plt.hist(fit_2.resid)"
   ]
  },
  {
   "cell_type": "markdown",
   "metadata": {},
   "source": [
    "Let's look at Agriculture"
   ]
  },
  {
   "cell_type": "code",
   "execution_count": 42,
   "metadata": {},
   "outputs": [
    {
     "data": {
      "image/png": "[encoded data removed]",
      "text/plain": [
       "<Figure size 1440x720 with 1 Axes>"
      ]
     },
     "metadata": {},
     "output_type": "display_data"
    }
   ],
   "source": [
    "agri_e = df_c[['Agri Employment']]\n",
    "agri_e.rolling(6).mean().plot(figsize=(20,10), linewidth=5, fontsize=20)\n",
    "plt.xlabel('Year', fontsize=20);"
   ]
  },
  {
   "cell_type": "code",
   "execution_count": 43,
   "metadata": {},
   "outputs": [
    {
     "data": {
      "image/png": "[encoded data removed]",
      "text/plain": [
       "<Figure size 1440x720 with 1 Axes>"
      ]
     },
     "metadata": {},
     "output_type": "display_data"
    }
   ],
   "source": [
    "health_f = df_c[['Health']]\n",
    "health_f.rolling(6).mean().plot(figsize=(20,10), linewidth=5, fontsize=20)\n",
    "plt.xlabel('Year', fontsize=20);"
   ]
  },
  {
   "cell_type": "code",
   "execution_count": 44,
   "metadata": {},
   "outputs": [],
   "source": [
    "y = df_c[['Agri Employment']]\n",
    "X = df_c[['Agriculture']].astype('int64')"
   ]
  },
  {
   "cell_type": "code",
   "execution_count": 45,
   "metadata": {},
   "outputs": [
    {
     "data": {
      "text/html": [
       "<div>\n",
       "<style scoped>\n",
       "    .dataframe tbody tr th:only-of-type {\n",
       "        vertical-align: middle;\n",
       "    }\n",
       "\n",
       "    .dataframe tbody tr th {\n",
       "        vertical-align: top;\n",
       "    }\n",
       "\n",
       "    .dataframe thead th {\n",
       "        text-align: right;\n",
       "    }\n",
       "</style>\n",
       "<table border=\"1\" class=\"dataframe\">\n",
       "  <thead>\n",
       "    <tr style=\"text-align: right;\">\n",
       "      <th></th>\n",
       "      <th>Agriculture</th>\n",
       "    </tr>\n",
       "  </thead>\n",
       "  <tbody>\n",
       "    <tr>\n",
       "      <th>0</th>\n",
       "      <td>0</td>\n",
       "    </tr>\n",
       "    <tr>\n",
       "      <th>1</th>\n",
       "      <td>0</td>\n",
       "    </tr>\n",
       "    <tr>\n",
       "      <th>2</th>\n",
       "      <td>0</td>\n",
       "    </tr>\n",
       "    <tr>\n",
       "      <th>3</th>\n",
       "      <td>0</td>\n",
       "    </tr>\n",
       "    <tr>\n",
       "      <th>4</th>\n",
       "      <td>0</td>\n",
       "    </tr>\n",
       "    <tr>\n",
       "      <th>5</th>\n",
       "      <td>0</td>\n",
       "    </tr>\n",
       "    <tr>\n",
       "      <th>6</th>\n",
       "      <td>0</td>\n",
       "    </tr>\n",
       "    <tr>\n",
       "      <th>7</th>\n",
       "      <td>0</td>\n",
       "    </tr>\n",
       "    <tr>\n",
       "      <th>8</th>\n",
       "      <td>0</td>\n",
       "    </tr>\n",
       "    <tr>\n",
       "      <th>9</th>\n",
       "      <td>0</td>\n",
       "    </tr>\n",
       "    <tr>\n",
       "      <th>10</th>\n",
       "      <td>2005538</td>\n",
       "    </tr>\n",
       "    <tr>\n",
       "      <th>11</th>\n",
       "      <td>5835361</td>\n",
       "    </tr>\n",
       "    <tr>\n",
       "      <th>12</th>\n",
       "      <td>8177642</td>\n",
       "    </tr>\n",
       "    <tr>\n",
       "      <th>13</th>\n",
       "      <td>11798259</td>\n",
       "    </tr>\n",
       "    <tr>\n",
       "      <th>14</th>\n",
       "      <td>15690782</td>\n",
       "    </tr>\n",
       "    <tr>\n",
       "      <th>15</th>\n",
       "      <td>16135339</td>\n",
       "    </tr>\n",
       "    <tr>\n",
       "      <th>16</th>\n",
       "      <td>26130659</td>\n",
       "    </tr>\n",
       "    <tr>\n",
       "      <th>17</th>\n",
       "      <td>35735553</td>\n",
       "    </tr>\n",
       "    <tr>\n",
       "      <th>18</th>\n",
       "      <td>33775359</td>\n",
       "    </tr>\n",
       "    <tr>\n",
       "      <th>19</th>\n",
       "      <td>34422890</td>\n",
       "    </tr>\n",
       "    <tr>\n",
       "      <th>20</th>\n",
       "      <td>21758454</td>\n",
       "    </tr>\n",
       "    <tr>\n",
       "      <th>21</th>\n",
       "      <td>24639726</td>\n",
       "    </tr>\n",
       "    <tr>\n",
       "      <th>22</th>\n",
       "      <td>18018191</td>\n",
       "    </tr>\n",
       "  </tbody>\n",
       "</table>\n",
       "</div>"
      ],
      "text/plain": [
       "    Agriculture\n",
       "0             0\n",
       "1             0\n",
       "2             0\n",
       "3             0\n",
       "4             0\n",
       "5             0\n",
       "6             0\n",
       "7             0\n",
       "8             0\n",
       "9             0\n",
       "10      2005538\n",
       "11      5835361\n",
       "12      8177642\n",
       "13     11798259\n",
       "14     15690782\n",
       "15     16135339\n",
       "16     26130659\n",
       "17     35735553\n",
       "18     33775359\n",
       "19     34422890\n",
       "20     21758454\n",
       "21     24639726\n",
       "22     18018191"
      ]
     },
     "execution_count": 45,
     "metadata": {},
     "output_type": "execute_result"
    }
   ],
   "source": [
    "X"
   ]
  },
  {
   "cell_type": "code",
   "execution_count": 46,
   "metadata": {},
   "outputs": [
    {
     "data": {
      "image/png": "[encoded data removed]",
      "text/plain": [
       "<Figure size 432x288 with 1 Axes>"
      ]
     },
     "execution_count": 46,
     "metadata": {},
     "output_type": "execute_result"
    },
    {
     "data": {
      "image/png": "[encoded data removed]",
      "text/plain": [
       "<Figure size 432x288 with 1 Axes>"
      ]
     },
     "metadata": {},
     "output_type": "display_data"
    }
   ],
   "source": [
    "tsaplots.plot_acf(y)"
   ]
  },
  {
   "cell_type": "code",
   "execution_count": 47,
   "metadata": {},
   "outputs": [],
   "source": [
    "X['Agri Employment Lag 1'] = y.shift(1)\n",
    "X['Agriculture Lag 1'] = X['Agriculture'].shift(1)\n",
    "X['Intercept'] = 1"
   ]
  },
  {
   "cell_type": "code",
   "execution_count": 48,
   "metadata": {},
   "outputs": [],
   "source": [
    "X = X.iloc[1:,:]\n",
    "\n",
    "y = y.iloc[1:,:]"
   ]
  },
  {
   "cell_type": "code",
   "execution_count": 49,
   "metadata": {},
   "outputs": [
    {
     "name": "stderr",
     "output_type": "stream",
     "text": [
      "/anaconda3/lib/python3.6/site-packages/ipykernel_launcher.py:2: SettingWithCopyWarning: \n",
      "A value is trying to be set on a copy of a slice from a DataFrame.\n",
      "Try using .loc[row_indexer,col_indexer] = value instead\n",
      "\n",
      "See the caveats in the documentation: http://pandas.pydata.org/pandas-docs/stable/indexing.html#indexing-view-versus-copy\n",
      "  \n"
     ]
    },
    {
     "data": {
      "text/html": [
       "<div>\n",
       "<style scoped>\n",
       "    .dataframe tbody tr th:only-of-type {\n",
       "        vertical-align: middle;\n",
       "    }\n",
       "\n",
       "    .dataframe tbody tr th {\n",
       "        vertical-align: top;\n",
       "    }\n",
       "\n",
       "    .dataframe thead th {\n",
       "        text-align: right;\n",
       "    }\n",
       "</style>\n",
       "<table border=\"1\" class=\"dataframe\">\n",
       "  <thead>\n",
       "    <tr style=\"text-align: right;\">\n",
       "      <th></th>\n",
       "      <th>Agriculture</th>\n",
       "      <th>Agri Employment Lag 1</th>\n",
       "      <th>Agriculture Lag 1</th>\n",
       "      <th>Intercept</th>\n",
       "      <th>trend</th>\n",
       "    </tr>\n",
       "  </thead>\n",
       "  <tbody>\n",
       "    <tr>\n",
       "      <th>1</th>\n",
       "      <td>0</td>\n",
       "      <td>65.3</td>\n",
       "      <td>0.0</td>\n",
       "      <td>1</td>\n",
       "      <td>1</td>\n",
       "    </tr>\n",
       "    <tr>\n",
       "      <th>2</th>\n",
       "      <td>0</td>\n",
       "      <td>67.2</td>\n",
       "      <td>0.0</td>\n",
       "      <td>1</td>\n",
       "      <td>2</td>\n",
       "    </tr>\n",
       "    <tr>\n",
       "      <th>3</th>\n",
       "      <td>0</td>\n",
       "      <td>69.1</td>\n",
       "      <td>0.0</td>\n",
       "      <td>1</td>\n",
       "      <td>3</td>\n",
       "    </tr>\n",
       "    <tr>\n",
       "      <th>4</th>\n",
       "      <td>0</td>\n",
       "      <td>66.3</td>\n",
       "      <td>0.0</td>\n",
       "      <td>1</td>\n",
       "      <td>4</td>\n",
       "    </tr>\n",
       "    <tr>\n",
       "      <th>5</th>\n",
       "      <td>0</td>\n",
       "      <td>66.4</td>\n",
       "      <td>0.0</td>\n",
       "      <td>1</td>\n",
       "      <td>5</td>\n",
       "    </tr>\n",
       "    <tr>\n",
       "      <th>6</th>\n",
       "      <td>0</td>\n",
       "      <td>66.5</td>\n",
       "      <td>0.0</td>\n",
       "      <td>1</td>\n",
       "      <td>6</td>\n",
       "    </tr>\n",
       "    <tr>\n",
       "      <th>7</th>\n",
       "      <td>0</td>\n",
       "      <td>66.6</td>\n",
       "      <td>0.0</td>\n",
       "      <td>1</td>\n",
       "      <td>7</td>\n",
       "    </tr>\n",
       "    <tr>\n",
       "      <th>8</th>\n",
       "      <td>0</td>\n",
       "      <td>66.7</td>\n",
       "      <td>0.0</td>\n",
       "      <td>1</td>\n",
       "      <td>8</td>\n",
       "    </tr>\n",
       "    <tr>\n",
       "      <th>9</th>\n",
       "      <td>0</td>\n",
       "      <td>66.4</td>\n",
       "      <td>0.0</td>\n",
       "      <td>1</td>\n",
       "      <td>9</td>\n",
       "    </tr>\n",
       "    <tr>\n",
       "      <th>10</th>\n",
       "      <td>2005538</td>\n",
       "      <td>64.9</td>\n",
       "      <td>0.0</td>\n",
       "      <td>1</td>\n",
       "      <td>10</td>\n",
       "    </tr>\n",
       "    <tr>\n",
       "      <th>11</th>\n",
       "      <td>5835361</td>\n",
       "      <td>63.4</td>\n",
       "      <td>2005538.0</td>\n",
       "      <td>1</td>\n",
       "      <td>11</td>\n",
       "    </tr>\n",
       "    <tr>\n",
       "      <th>12</th>\n",
       "      <td>8177642</td>\n",
       "      <td>61.9</td>\n",
       "      <td>5835361.0</td>\n",
       "      <td>1</td>\n",
       "      <td>12</td>\n",
       "    </tr>\n",
       "    <tr>\n",
       "      <th>13</th>\n",
       "      <td>11798259</td>\n",
       "      <td>60.4</td>\n",
       "      <td>8177642.0</td>\n",
       "      <td>1</td>\n",
       "      <td>13</td>\n",
       "    </tr>\n",
       "    <tr>\n",
       "      <th>14</th>\n",
       "      <td>15690782</td>\n",
       "      <td>65.9</td>\n",
       "      <td>11798259.0</td>\n",
       "      <td>1</td>\n",
       "      <td>14</td>\n",
       "    </tr>\n",
       "    <tr>\n",
       "      <th>15</th>\n",
       "      <td>16135339</td>\n",
       "      <td>64.4</td>\n",
       "      <td>15690782.0</td>\n",
       "      <td>1</td>\n",
       "      <td>15</td>\n",
       "    </tr>\n",
       "    <tr>\n",
       "      <th>16</th>\n",
       "      <td>26130659</td>\n",
       "      <td>62.9</td>\n",
       "      <td>16135339.0</td>\n",
       "      <td>1</td>\n",
       "      <td>16</td>\n",
       "    </tr>\n",
       "    <tr>\n",
       "      <th>17</th>\n",
       "      <td>35735553</td>\n",
       "      <td>61.4</td>\n",
       "      <td>26130659.0</td>\n",
       "      <td>1</td>\n",
       "      <td>17</td>\n",
       "    </tr>\n",
       "    <tr>\n",
       "      <th>18</th>\n",
       "      <td>33775359</td>\n",
       "      <td>59.9</td>\n",
       "      <td>35735553.0</td>\n",
       "      <td>1</td>\n",
       "      <td>18</td>\n",
       "    </tr>\n",
       "    <tr>\n",
       "      <th>19</th>\n",
       "      <td>34422890</td>\n",
       "      <td>63.7</td>\n",
       "      <td>33775359.0</td>\n",
       "      <td>1</td>\n",
       "      <td>19</td>\n",
       "    </tr>\n",
       "    <tr>\n",
       "      <th>20</th>\n",
       "      <td>21758454</td>\n",
       "      <td>63.2</td>\n",
       "      <td>34422890.0</td>\n",
       "      <td>1</td>\n",
       "      <td>20</td>\n",
       "    </tr>\n",
       "    <tr>\n",
       "      <th>21</th>\n",
       "      <td>24639726</td>\n",
       "      <td>61.2</td>\n",
       "      <td>21758454.0</td>\n",
       "      <td>1</td>\n",
       "      <td>21</td>\n",
       "    </tr>\n",
       "    <tr>\n",
       "      <th>22</th>\n",
       "      <td>18018191</td>\n",
       "      <td>58.2</td>\n",
       "      <td>24639726.0</td>\n",
       "      <td>1</td>\n",
       "      <td>22</td>\n",
       "    </tr>\n",
       "  </tbody>\n",
       "</table>\n",
       "</div>"
      ],
      "text/plain": [
       "    Agriculture  Agri Employment Lag 1  Agriculture Lag 1  Intercept  trend\n",
       "1             0                   65.3                0.0          1      1\n",
       "2             0                   67.2                0.0          1      2\n",
       "3             0                   69.1                0.0          1      3\n",
       "4             0                   66.3                0.0          1      4\n",
       "5             0                   66.4                0.0          1      5\n",
       "6             0                   66.5                0.0          1      6\n",
       "7             0                   66.6                0.0          1      7\n",
       "8             0                   66.7                0.0          1      8\n",
       "9             0                   66.4                0.0          1      9\n",
       "10      2005538                   64.9                0.0          1     10\n",
       "11      5835361                   63.4          2005538.0          1     11\n",
       "12      8177642                   61.9          5835361.0          1     12\n",
       "13     11798259                   60.4          8177642.0          1     13\n",
       "14     15690782                   65.9         11798259.0          1     14\n",
       "15     16135339                   64.4         15690782.0          1     15\n",
       "16     26130659                   62.9         16135339.0          1     16\n",
       "17     35735553                   61.4         26130659.0          1     17\n",
       "18     33775359                   59.9         35735553.0          1     18\n",
       "19     34422890                   63.7         33775359.0          1     19\n",
       "20     21758454                   63.2         34422890.0          1     20\n",
       "21     24639726                   61.2         21758454.0          1     21\n",
       "22     18018191                   58.2         24639726.0          1     22"
      ]
     },
     "execution_count": 49,
     "metadata": {},
     "output_type": "execute_result"
    }
   ],
   "source": [
    "# trend\n",
    "X['trend'] = range(1,len(X.index)+1)\n",
    "\n",
    "X"
   ]
  },
  {
   "cell_type": "code",
   "execution_count": 50,
   "metadata": {},
   "outputs": [
    {
     "data": {
      "text/html": [
       "<div>\n",
       "<style scoped>\n",
       "    .dataframe tbody tr th:only-of-type {\n",
       "        vertical-align: middle;\n",
       "    }\n",
       "\n",
       "    .dataframe tbody tr th {\n",
       "        vertical-align: top;\n",
       "    }\n",
       "\n",
       "    .dataframe thead th {\n",
       "        text-align: right;\n",
       "    }\n",
       "</style>\n",
       "<table border=\"1\" class=\"dataframe\">\n",
       "  <thead>\n",
       "    <tr style=\"text-align: right;\">\n",
       "      <th></th>\n",
       "      <th>Agri Employment</th>\n",
       "    </tr>\n",
       "  </thead>\n",
       "  <tbody>\n",
       "    <tr>\n",
       "      <th>1</th>\n",
       "      <td>67.2</td>\n",
       "    </tr>\n",
       "    <tr>\n",
       "      <th>2</th>\n",
       "      <td>69.1</td>\n",
       "    </tr>\n",
       "    <tr>\n",
       "      <th>3</th>\n",
       "      <td>66.3</td>\n",
       "    </tr>\n",
       "    <tr>\n",
       "      <th>4</th>\n",
       "      <td>66.4</td>\n",
       "    </tr>\n",
       "    <tr>\n",
       "      <th>5</th>\n",
       "      <td>66.5</td>\n",
       "    </tr>\n",
       "  </tbody>\n",
       "</table>\n",
       "</div>"
      ],
      "text/plain": [
       "   Agri Employment\n",
       "1             67.2\n",
       "2             69.1\n",
       "3             66.3\n",
       "4             66.4\n",
       "5             66.5"
      ]
     },
     "execution_count": 50,
     "metadata": {},
     "output_type": "execute_result"
    }
   ],
   "source": [
    "y.head(5)"
   ]
  },
  {
   "cell_type": "code",
   "execution_count": 51,
   "metadata": {},
   "outputs": [
    {
     "name": "stdout",
     "output_type": "stream",
     "text": [
      "                            OLS Regression Results                            \n",
      "==============================================================================\n",
      "Dep. Variable:        Agri Employment   R-squared:                       0.786\n",
      "Model:                            OLS   Adj. R-squared:                  0.736\n",
      "Method:                 Least Squares   F-statistic:                     15.65\n",
      "Date:                Sun, 18 Nov 2018   Prob (F-statistic):           1.54e-05\n",
      "Time:                        16:54:06   Log-Likelihood:                -38.608\n",
      "No. Observations:                  22   AIC:                             87.22\n",
      "Df Residuals:                      17   BIC:                             92.67\n",
      "Df Model:                           4                                         \n",
      "Covariance Type:            nonrobust                                         \n",
      "=========================================================================================\n",
      "                            coef    std err          t      P>|t|      [0.025      0.975]\n",
      "-----------------------------------------------------------------------------------------\n",
      "Agriculture           -2.074e-08   7.94e-08     -0.261      0.797   -1.88e-07    1.47e-07\n",
      "Agri Employment Lag 1     0.2264      0.209      1.082      0.294      -0.215       0.668\n",
      "Agriculture Lag 1      1.175e-07   8.34e-08      1.410      0.177   -5.84e-08    2.93e-07\n",
      "Intercept                54.0302     14.290      3.781      0.001      23.881      84.180\n",
      "trend                    -0.5000      0.135     -3.717      0.002      -0.784      -0.216\n",
      "==============================================================================\n",
      "Omnibus:                        4.665   Durbin-Watson:                   1.885\n",
      "Prob(Omnibus):                  0.097   Jarque-Bera (JB):                2.661\n",
      "Skew:                           0.755   Prob(JB):                        0.264\n",
      "Kurtosis:                       3.790   Cond. No.                     9.97e+08\n",
      "==============================================================================\n",
      "\n",
      "Warnings:\n",
      "[1] Standard Errors assume that the covariance matrix of the errors is correctly specified.\n",
      "[2] The condition number is large, 9.97e+08. This might indicate that there are\n",
      "strong multicollinearity or other numerical problems.\n"
     ]
    }
   ],
   "source": [
    "fit_1 = sm.OLS(y, X).fit()\n",
    "\n",
    "# Inspect the results\n",
    "print(fit_1.summary())"
   ]
  },
  {
   "cell_type": "markdown",
   "metadata": {},
   "source": [
    "A P value of 0.177 suggests that if the null hypothesis were true (that Agricultural Funding Lag 1 funding has no effect on Agri Employment), we would expect this kind of result 17.7% of the time. This is not a statistically significant effect. "
   ]
  },
  {
   "cell_type": "code",
   "execution_count": 52,
   "metadata": {},
   "outputs": [
    {
     "data": {
      "text/plain": [
       "(array([3., 4., 2., 4., 3., 4., 1., 0., 0., 1.]),\n",
       " array([-2.16076497, -1.54681271, -0.93286044, -0.31890818,  0.29504408,\n",
       "         0.90899635,  1.52294861,  2.13690088,  2.75085314,  3.3648054 ,\n",
       "         3.97875767]),\n",
       " <a list of 10 Patch objects>)"
      ]
     },
     "execution_count": 52,
     "metadata": {},
     "output_type": "execute_result"
    },
    {
     "data": {
      "image/png": "[encoded data removed]",
      "text/plain": [
       "<Figure size 432x288 with 1 Axes>"
      ]
     },
     "metadata": {},
     "output_type": "display_data"
    }
   ],
   "source": [
    "plt.hist(fit_1.resid)"
   ]
  },
  {
   "cell_type": "code",
   "execution_count": 53,
   "metadata": {},
   "outputs": [
    {
     "name": "stdout",
     "output_type": "stream",
     "text": [
      "                            OLS Regression Results                            \n",
      "==============================================================================\n",
      "Dep. Variable:        Agri Employment   R-squared:                       0.414\n",
      "Model:                            OLS   Adj. R-squared:                  0.385\n",
      "Method:                 Least Squares   F-statistic:                     14.14\n",
      "Date:                Sun, 18 Nov 2018   Prob (F-statistic):            0.00123\n",
      "Time:                        16:54:06   Log-Likelihood:                -49.709\n",
      "No. Observations:                  22   AIC:                             103.4\n",
      "Df Residuals:                      20   BIC:                             105.6\n",
      "Df Model:                           1                                         \n",
      "Covariance Type:            nonrobust                                         \n",
      "=====================================================================================\n",
      "                        coef    std err          t      P>|t|      [0.025      0.975]\n",
      "-------------------------------------------------------------------------------------\n",
      "Agriculture Lag 1 -1.527e-07   4.06e-08     -3.761      0.001   -2.37e-07    -6.8e-08\n",
      "Intercept            65.4707      0.677     96.689      0.000      64.058      66.883\n",
      "==============================================================================\n",
      "Omnibus:                        1.355   Durbin-Watson:                   0.954\n",
      "Prob(Omnibus):                  0.508   Jarque-Bera (JB):                1.173\n",
      "Skew:                          -0.406   Prob(JB):                        0.556\n",
      "Kurtosis:                       2.212   Cond. No.                     2.18e+07\n",
      "==============================================================================\n",
      "\n",
      "Warnings:\n",
      "[1] Standard Errors assume that the covariance matrix of the errors is correctly specified.\n",
      "[2] The condition number is large, 2.18e+07. This might indicate that there are\n",
      "strong multicollinearity or other numerical problems.\n"
     ]
    }
   ],
   "source": [
    "fit_2 = sm.OLS(y, X.drop(['trend','Agriculture','Agri Employment Lag 1'], axis = 1)).fit()\n",
    "\n",
    "# Inspect the results\n",
    "print(fit_2.summary())"
   ]
  },
  {
   "cell_type": "markdown",
   "metadata": {},
   "source": [
    "Conclusion \n",
    "* Using Agricultural funding from the previous year, to predict Agricultural Employment in the current year, the predictive power (R squared) is only 0.385, indicating that Agricultural funding is not a strong predictor of Agricultural Employment."
   ]
  },
  {
   "cell_type": "code",
   "execution_count": 54,
   "metadata": {},
   "outputs": [
    {
     "data": {
      "text/plain": [
       "(array([3., 1., 1., 2., 1., 1., 8., 2., 1., 2.]),\n",
       " array([-4.17961084, -3.39299519, -2.60637955, -1.8197639 , -1.03314825,\n",
       "        -0.2465326 ,  0.54008305,  1.3266987 ,  2.11331435,  2.89993   ,\n",
       "         3.68654564]),\n",
       " <a list of 10 Patch objects>)"
      ]
     },
     "execution_count": 54,
     "metadata": {},
     "output_type": "execute_result"
    },
    {
     "data": {
      "image/png": "[encoded data removed]",
      "text/plain": [
       "<Figure size 432x288 with 1 Axes>"
      ]
     },
     "metadata": {},
     "output_type": "display_data"
    }
   ],
   "source": [
    "plt.hist(fit_2.resid)"
   ]
  },
  {
   "cell_type": "markdown",
   "metadata": {},
   "source": [
    "Lets look at Income"
   ]
  },
  {
   "cell_type": "code",
   "execution_count": 55,
   "metadata": {},
   "outputs": [
    {
     "data": {
      "image/png": "[encoded data removed]",
      "text/plain": [
       "<Figure size 1440x720 with 1 Axes>"
      ]
     },
     "metadata": {},
     "output_type": "display_data"
    }
   ],
   "source": [
    "income_i = df_c[['Income Index']]\n",
    "income_i.rolling(6).mean().plot(figsize=(20,10), linewidth=5, fontsize=20)\n",
    "plt.xlabel('Year', fontsize=20);"
   ]
  },
  {
   "cell_type": "code",
   "execution_count": 56,
   "metadata": {},
   "outputs": [
    {
     "data": {
      "image/png": "[encoded data removed]",
      "text/plain": [
       "<Figure size 1440x720 with 1 Axes>"
      ]
     },
     "metadata": {},
     "output_type": "display_data"
    }
   ],
   "source": [
    "government_f = df_c[['Government']]\n",
    "government_f.rolling(6).mean().plot(figsize=(20,10), linewidth=5, fontsize=20)\n",
    "plt.xlabel('Year', fontsize=20);"
   ]
  },
  {
   "cell_type": "code",
   "execution_count": 57,
   "metadata": {},
   "outputs": [],
   "source": [
    "y = df_c[['Income Index']]\n",
    "X = df_c[['Government']].astype('int64')"
   ]
  },
  {
   "cell_type": "code",
   "execution_count": 58,
   "metadata": {},
   "outputs": [
    {
     "data": {
      "text/html": [
       "<div>\n",
       "<style scoped>\n",
       "    .dataframe tbody tr th:only-of-type {\n",
       "        vertical-align: middle;\n",
       "    }\n",
       "\n",
       "    .dataframe tbody tr th {\n",
       "        vertical-align: top;\n",
       "    }\n",
       "\n",
       "    .dataframe thead th {\n",
       "        text-align: right;\n",
       "    }\n",
       "</style>\n",
       "<table border=\"1\" class=\"dataframe\">\n",
       "  <thead>\n",
       "    <tr style=\"text-align: right;\">\n",
       "      <th></th>\n",
       "      <th>Government</th>\n",
       "    </tr>\n",
       "  </thead>\n",
       "  <tbody>\n",
       "    <tr>\n",
       "      <th>0</th>\n",
       "      <td>0</td>\n",
       "    </tr>\n",
       "    <tr>\n",
       "      <th>1</th>\n",
       "      <td>0</td>\n",
       "    </tr>\n",
       "    <tr>\n",
       "      <th>2</th>\n",
       "      <td>0</td>\n",
       "    </tr>\n",
       "    <tr>\n",
       "      <th>3</th>\n",
       "      <td>0</td>\n",
       "    </tr>\n",
       "    <tr>\n",
       "      <th>4</th>\n",
       "      <td>0</td>\n",
       "    </tr>\n",
       "    <tr>\n",
       "      <th>5</th>\n",
       "      <td>0</td>\n",
       "    </tr>\n",
       "    <tr>\n",
       "      <th>6</th>\n",
       "      <td>112370</td>\n",
       "    </tr>\n",
       "    <tr>\n",
       "      <th>7</th>\n",
       "      <td>112370</td>\n",
       "    </tr>\n",
       "    <tr>\n",
       "      <th>8</th>\n",
       "      <td>112370</td>\n",
       "    </tr>\n",
       "    <tr>\n",
       "      <th>9</th>\n",
       "      <td>380179</td>\n",
       "    </tr>\n",
       "    <tr>\n",
       "      <th>10</th>\n",
       "      <td>424635</td>\n",
       "    </tr>\n",
       "    <tr>\n",
       "      <th>11</th>\n",
       "      <td>4418195</td>\n",
       "    </tr>\n",
       "    <tr>\n",
       "      <th>12</th>\n",
       "      <td>13257990</td>\n",
       "    </tr>\n",
       "    <tr>\n",
       "      <th>13</th>\n",
       "      <td>28467684</td>\n",
       "    </tr>\n",
       "    <tr>\n",
       "      <th>14</th>\n",
       "      <td>38266356</td>\n",
       "    </tr>\n",
       "    <tr>\n",
       "      <th>15</th>\n",
       "      <td>52584905</td>\n",
       "    </tr>\n",
       "    <tr>\n",
       "      <th>16</th>\n",
       "      <td>95752838</td>\n",
       "    </tr>\n",
       "    <tr>\n",
       "      <th>17</th>\n",
       "      <td>100321825</td>\n",
       "    </tr>\n",
       "    <tr>\n",
       "      <th>18</th>\n",
       "      <td>89383572</td>\n",
       "    </tr>\n",
       "    <tr>\n",
       "      <th>19</th>\n",
       "      <td>107172317</td>\n",
       "    </tr>\n",
       "    <tr>\n",
       "      <th>20</th>\n",
       "      <td>94915490</td>\n",
       "    </tr>\n",
       "    <tr>\n",
       "      <th>21</th>\n",
       "      <td>68981822</td>\n",
       "    </tr>\n",
       "    <tr>\n",
       "      <th>22</th>\n",
       "      <td>49866703</td>\n",
       "    </tr>\n",
       "  </tbody>\n",
       "</table>\n",
       "</div>"
      ],
      "text/plain": [
       "    Government\n",
       "0            0\n",
       "1            0\n",
       "2            0\n",
       "3            0\n",
       "4            0\n",
       "5            0\n",
       "6       112370\n",
       "7       112370\n",
       "8       112370\n",
       "9       380179\n",
       "10      424635\n",
       "11     4418195\n",
       "12    13257990\n",
       "13    28467684\n",
       "14    38266356\n",
       "15    52584905\n",
       "16    95752838\n",
       "17   100321825\n",
       "18    89383572\n",
       "19   107172317\n",
       "20    94915490\n",
       "21    68981822\n",
       "22    49866703"
      ]
     },
     "execution_count": 58,
     "metadata": {},
     "output_type": "execute_result"
    }
   ],
   "source": [
    "X"
   ]
  },
  {
   "cell_type": "code",
   "execution_count": 59,
   "metadata": {},
   "outputs": [
    {
     "data": {
      "image/png": "[encoded data removed]",
      "text/plain": [
       "<Figure size 432x288 with 1 Axes>"
      ]
     },
     "execution_count": 59,
     "metadata": {},
     "output_type": "execute_result"
    },
    {
     "data": {
      "image/png": "[encoded data removed]",
      "text/plain": [
       "<Figure size 432x288 with 1 Axes>"
      ]
     },
     "metadata": {},
     "output_type": "display_data"
    }
   ],
   "source": [
    "tsaplots.plot_acf(y)"
   ]
  },
  {
   "cell_type": "code",
   "execution_count": 60,
   "metadata": {},
   "outputs": [],
   "source": [
    "X['Income Index Lag 1'] = y.shift(1)\n",
    "X['Government Lag 1'] = X['Government'].shift(1)\n",
    "X['Intercept'] = 1"
   ]
  },
  {
   "cell_type": "code",
   "execution_count": 61,
   "metadata": {},
   "outputs": [],
   "source": [
    "X = X.iloc[1:,:]\n",
    "\n",
    "y = y.iloc[1:,:]"
   ]
  },
  {
   "cell_type": "code",
   "execution_count": 62,
   "metadata": {},
   "outputs": [
    {
     "name": "stderr",
     "output_type": "stream",
     "text": [
      "/anaconda3/lib/python3.6/site-packages/ipykernel_launcher.py:2: SettingWithCopyWarning: \n",
      "A value is trying to be set on a copy of a slice from a DataFrame.\n",
      "Try using .loc[row_indexer,col_indexer] = value instead\n",
      "\n",
      "See the caveats in the documentation: http://pandas.pydata.org/pandas-docs/stable/indexing.html#indexing-view-versus-copy\n",
      "  \n"
     ]
    },
    {
     "data": {
      "text/html": [
       "<div>\n",
       "<style scoped>\n",
       "    .dataframe tbody tr th:only-of-type {\n",
       "        vertical-align: middle;\n",
       "    }\n",
       "\n",
       "    .dataframe tbody tr th {\n",
       "        vertical-align: top;\n",
       "    }\n",
       "\n",
       "    .dataframe thead th {\n",
       "        text-align: right;\n",
       "    }\n",
       "</style>\n",
       "<table border=\"1\" class=\"dataframe\">\n",
       "  <thead>\n",
       "    <tr style=\"text-align: right;\">\n",
       "      <th></th>\n",
       "      <th>Government</th>\n",
       "      <th>Income Index Lag 1</th>\n",
       "      <th>Government Lag 1</th>\n",
       "      <th>Intercept</th>\n",
       "      <th>trend</th>\n",
       "    </tr>\n",
       "  </thead>\n",
       "  <tbody>\n",
       "    <tr>\n",
       "      <th>1</th>\n",
       "      <td>0</td>\n",
       "      <td>0.382</td>\n",
       "      <td>0.0</td>\n",
       "      <td>1</td>\n",
       "      <td>1</td>\n",
       "    </tr>\n",
       "    <tr>\n",
       "      <th>2</th>\n",
       "      <td>0</td>\n",
       "      <td>0.391</td>\n",
       "      <td>0.0</td>\n",
       "      <td>1</td>\n",
       "      <td>2</td>\n",
       "    </tr>\n",
       "    <tr>\n",
       "      <th>3</th>\n",
       "      <td>0</td>\n",
       "      <td>0.386</td>\n",
       "      <td>0.0</td>\n",
       "      <td>1</td>\n",
       "      <td>3</td>\n",
       "    </tr>\n",
       "    <tr>\n",
       "      <th>4</th>\n",
       "      <td>0</td>\n",
       "      <td>0.381</td>\n",
       "      <td>0.0</td>\n",
       "      <td>1</td>\n",
       "      <td>4</td>\n",
       "    </tr>\n",
       "    <tr>\n",
       "      <th>5</th>\n",
       "      <td>0</td>\n",
       "      <td>0.342</td>\n",
       "      <td>0.0</td>\n",
       "      <td>1</td>\n",
       "      <td>5</td>\n",
       "    </tr>\n",
       "    <tr>\n",
       "      <th>6</th>\n",
       "      <td>112370</td>\n",
       "      <td>0.314</td>\n",
       "      <td>0.0</td>\n",
       "      <td>1</td>\n",
       "      <td>6</td>\n",
       "    </tr>\n",
       "    <tr>\n",
       "      <th>7</th>\n",
       "      <td>112370</td>\n",
       "      <td>0.306</td>\n",
       "      <td>112370.0</td>\n",
       "      <td>1</td>\n",
       "      <td>7</td>\n",
       "    </tr>\n",
       "    <tr>\n",
       "      <th>8</th>\n",
       "      <td>112370</td>\n",
       "      <td>0.293</td>\n",
       "      <td>112370.0</td>\n",
       "      <td>1</td>\n",
       "      <td>8</td>\n",
       "    </tr>\n",
       "    <tr>\n",
       "      <th>9</th>\n",
       "      <td>380179</td>\n",
       "      <td>0.295</td>\n",
       "      <td>112370.0</td>\n",
       "      <td>1</td>\n",
       "      <td>9</td>\n",
       "    </tr>\n",
       "    <tr>\n",
       "      <th>10</th>\n",
       "      <td>424635</td>\n",
       "      <td>0.315</td>\n",
       "      <td>380179.0</td>\n",
       "      <td>1</td>\n",
       "      <td>10</td>\n",
       "    </tr>\n",
       "    <tr>\n",
       "      <th>11</th>\n",
       "      <td>4418195</td>\n",
       "      <td>0.344</td>\n",
       "      <td>424635.0</td>\n",
       "      <td>1</td>\n",
       "      <td>11</td>\n",
       "    </tr>\n",
       "    <tr>\n",
       "      <th>12</th>\n",
       "      <td>13257990</td>\n",
       "      <td>0.350</td>\n",
       "      <td>4418195.0</td>\n",
       "      <td>1</td>\n",
       "      <td>12</td>\n",
       "    </tr>\n",
       "    <tr>\n",
       "      <th>13</th>\n",
       "      <td>28467684</td>\n",
       "      <td>0.353</td>\n",
       "      <td>13257990.0</td>\n",
       "      <td>1</td>\n",
       "      <td>13</td>\n",
       "    </tr>\n",
       "    <tr>\n",
       "      <th>14</th>\n",
       "      <td>38266356</td>\n",
       "      <td>0.353</td>\n",
       "      <td>28467684.0</td>\n",
       "      <td>1</td>\n",
       "      <td>14</td>\n",
       "    </tr>\n",
       "    <tr>\n",
       "      <th>15</th>\n",
       "      <td>52584905</td>\n",
       "      <td>0.355</td>\n",
       "      <td>38266356.0</td>\n",
       "      <td>1</td>\n",
       "      <td>15</td>\n",
       "    </tr>\n",
       "    <tr>\n",
       "      <th>16</th>\n",
       "      <td>95752838</td>\n",
       "      <td>0.373</td>\n",
       "      <td>52584905.0</td>\n",
       "      <td>1</td>\n",
       "      <td>16</td>\n",
       "    </tr>\n",
       "    <tr>\n",
       "      <th>17</th>\n",
       "      <td>100321825</td>\n",
       "      <td>0.381</td>\n",
       "      <td>95752838.0</td>\n",
       "      <td>1</td>\n",
       "      <td>17</td>\n",
       "    </tr>\n",
       "    <tr>\n",
       "      <th>18</th>\n",
       "      <td>89383572</td>\n",
       "      <td>0.384</td>\n",
       "      <td>100321825.0</td>\n",
       "      <td>1</td>\n",
       "      <td>18</td>\n",
       "    </tr>\n",
       "    <tr>\n",
       "      <th>19</th>\n",
       "      <td>107172317</td>\n",
       "      <td>0.377</td>\n",
       "      <td>89383572.0</td>\n",
       "      <td>1</td>\n",
       "      <td>19</td>\n",
       "    </tr>\n",
       "    <tr>\n",
       "      <th>20</th>\n",
       "      <td>94915490</td>\n",
       "      <td>0.379</td>\n",
       "      <td>107172317.0</td>\n",
       "      <td>1</td>\n",
       "      <td>20</td>\n",
       "    </tr>\n",
       "    <tr>\n",
       "      <th>21</th>\n",
       "      <td>68981822</td>\n",
       "      <td>0.404</td>\n",
       "      <td>94915490.0</td>\n",
       "      <td>1</td>\n",
       "      <td>21</td>\n",
       "    </tr>\n",
       "    <tr>\n",
       "      <th>22</th>\n",
       "      <td>49866703</td>\n",
       "      <td>0.423</td>\n",
       "      <td>68981822.0</td>\n",
       "      <td>1</td>\n",
       "      <td>22</td>\n",
       "    </tr>\n",
       "  </tbody>\n",
       "</table>\n",
       "</div>"
      ],
      "text/plain": [
       "    Government  Income Index Lag 1  Government Lag 1  Intercept  trend\n",
       "1            0               0.382               0.0          1      1\n",
       "2            0               0.391               0.0          1      2\n",
       "3            0               0.386               0.0          1      3\n",
       "4            0               0.381               0.0          1      4\n",
       "5            0               0.342               0.0          1      5\n",
       "6       112370               0.314               0.0          1      6\n",
       "7       112370               0.306          112370.0          1      7\n",
       "8       112370               0.293          112370.0          1      8\n",
       "9       380179               0.295          112370.0          1      9\n",
       "10      424635               0.315          380179.0          1     10\n",
       "11     4418195               0.344          424635.0          1     11\n",
       "12    13257990               0.350         4418195.0          1     12\n",
       "13    28467684               0.353        13257990.0          1     13\n",
       "14    38266356               0.353        28467684.0          1     14\n",
       "15    52584905               0.355        38266356.0          1     15\n",
       "16    95752838               0.373        52584905.0          1     16\n",
       "17   100321825               0.381        95752838.0          1     17\n",
       "18    89383572               0.384       100321825.0          1     18\n",
       "19   107172317               0.377        89383572.0          1     19\n",
       "20    94915490               0.379       107172317.0          1     20\n",
       "21    68981822               0.404        94915490.0          1     21\n",
       "22    49866703               0.423        68981822.0          1     22"
      ]
     },
     "execution_count": 62,
     "metadata": {},
     "output_type": "execute_result"
    }
   ],
   "source": [
    "# trend\n",
    "X['trend'] = range(1,len(X.index)+1)\n",
    "\n",
    "X"
   ]
  },
  {
   "cell_type": "code",
   "execution_count": 63,
   "metadata": {},
   "outputs": [
    {
     "data": {
      "text/html": [
       "<div>\n",
       "<style scoped>\n",
       "    .dataframe tbody tr th:only-of-type {\n",
       "        vertical-align: middle;\n",
       "    }\n",
       "\n",
       "    .dataframe tbody tr th {\n",
       "        vertical-align: top;\n",
       "    }\n",
       "\n",
       "    .dataframe thead th {\n",
       "        text-align: right;\n",
       "    }\n",
       "</style>\n",
       "<table border=\"1\" class=\"dataframe\">\n",
       "  <thead>\n",
       "    <tr style=\"text-align: right;\">\n",
       "      <th></th>\n",
       "      <th>Income Index</th>\n",
       "    </tr>\n",
       "  </thead>\n",
       "  <tbody>\n",
       "    <tr>\n",
       "      <th>1</th>\n",
       "      <td>0.391</td>\n",
       "    </tr>\n",
       "    <tr>\n",
       "      <th>2</th>\n",
       "      <td>0.386</td>\n",
       "    </tr>\n",
       "    <tr>\n",
       "      <th>3</th>\n",
       "      <td>0.381</td>\n",
       "    </tr>\n",
       "    <tr>\n",
       "      <th>4</th>\n",
       "      <td>0.342</td>\n",
       "    </tr>\n",
       "    <tr>\n",
       "      <th>5</th>\n",
       "      <td>0.314</td>\n",
       "    </tr>\n",
       "  </tbody>\n",
       "</table>\n",
       "</div>"
      ],
      "text/plain": [
       "   Income Index\n",
       "1         0.391\n",
       "2         0.386\n",
       "3         0.381\n",
       "4         0.342\n",
       "5         0.314"
      ]
     },
     "execution_count": 63,
     "metadata": {},
     "output_type": "execute_result"
    }
   ],
   "source": [
    "y.head(5)"
   ]
  },
  {
   "cell_type": "code",
   "execution_count": 64,
   "metadata": {},
   "outputs": [
    {
     "name": "stdout",
     "output_type": "stream",
     "text": [
      "                            OLS Regression Results                            \n",
      "==============================================================================\n",
      "Dep. Variable:           Income Index   R-squared:                       0.872\n",
      "Model:                            OLS   Adj. R-squared:                  0.841\n",
      "Method:                 Least Squares   F-statistic:                     28.83\n",
      "Date:                Sun, 18 Nov 2018   Prob (F-statistic):           2.24e-07\n",
      "Time:                        16:54:08   Log-Likelihood:                 63.752\n",
      "No. Observations:                  22   AIC:                            -117.5\n",
      "Df Residuals:                      17   BIC:                            -112.0\n",
      "Df Model:                           4                                         \n",
      "Covariance Type:            nonrobust                                         \n",
      "======================================================================================\n",
      "                         coef    std err          t      P>|t|      [0.025      0.975]\n",
      "--------------------------------------------------------------------------------------\n",
      "Government         -4.485e-11   2.48e-10     -0.181      0.859   -5.69e-10    4.79e-10\n",
      "Income Index Lag 1     0.8834      0.119      7.430      0.000       0.633       1.134\n",
      "Government Lag 1    1.804e-11   2.87e-10      0.063      0.951   -5.87e-10    6.23e-10\n",
      "Intercept              0.0277      0.044      0.635      0.534      -0.064       0.120\n",
      "trend                  0.0015      0.001      1.386      0.184      -0.001       0.004\n",
      "==============================================================================\n",
      "Omnibus:                        0.094   Durbin-Watson:                   1.050\n",
      "Prob(Omnibus):                  0.954   Jarque-Bera (JB):                0.237\n",
      "Skew:                          -0.131   Prob(JB):                        0.888\n",
      "Kurtosis:                       2.565   Cond. No.                     2.84e+09\n",
      "==============================================================================\n",
      "\n",
      "Warnings:\n",
      "[1] Standard Errors assume that the covariance matrix of the errors is correctly specified.\n",
      "[2] The condition number is large, 2.84e+09. This might indicate that there are\n",
      "strong multicollinearity or other numerical problems.\n"
     ]
    }
   ],
   "source": [
    "fit_1 = sm.OLS(y, X).fit()\n",
    "\n",
    "# Inspect the results\n",
    "print(fit_1.summary())"
   ]
  },
  {
   "cell_type": "markdown",
   "metadata": {},
   "source": [
    "A P value of 0.951 suggests that if the null hypothesis were true (that Agricultural Funding Lag 1 funding has no effect on Agri Employment), we would expect this kind of result 95.1% of the time. This is not a statistically significant effect. "
   ]
  },
  {
   "cell_type": "code",
   "execution_count": 65,
   "metadata": {},
   "outputs": [
    {
     "data": {
      "text/plain": [
       "(array([2., 0., 2., 2., 5., 2., 2., 4., 1., 2.]),\n",
       " array([-0.02819452, -0.02294255, -0.01769059, -0.01243862, -0.00718665,\n",
       "        -0.00193469,  0.00331728,  0.00856924,  0.01382121,  0.01907318,\n",
       "         0.02432514]),\n",
       " <a list of 10 Patch objects>)"
      ]
     },
     "execution_count": 65,
     "metadata": {},
     "output_type": "execute_result"
    },
    {
     "data": {
      "image/png": "[encoded data removed]",
      "text/plain": [
       "<Figure size 432x288 with 1 Axes>"
      ]
     },
     "metadata": {},
     "output_type": "display_data"
    }
   ],
   "source": [
    "plt.hist(fit_1.resid)"
   ]
  },
  {
   "cell_type": "code",
   "execution_count": 66,
   "metadata": {},
   "outputs": [
    {
     "name": "stdout",
     "output_type": "stream",
     "text": [
      "                            OLS Regression Results                            \n",
      "==============================================================================\n",
      "Dep. Variable:           Income Index   R-squared:                       0.445\n",
      "Model:                            OLS   Adj. R-squared:                  0.417\n",
      "Method:                 Least Squares   F-statistic:                     16.01\n",
      "Date:                Sun, 18 Nov 2018   Prob (F-statistic):           0.000701\n",
      "Time:                        16:54:08   Log-Likelihood:                 47.649\n",
      "No. Observations:                  22   AIC:                            -91.30\n",
      "Df Residuals:                      20   BIC:                            -89.12\n",
      "Df Model:                           1                                         \n",
      "Covariance Type:            nonrobust                                         \n",
      "====================================================================================\n",
      "                       coef    std err          t      P>|t|      [0.025      0.975]\n",
      "------------------------------------------------------------------------------------\n",
      "Government Lag 1  6.156e-10   1.54e-10      4.002      0.001    2.95e-10    9.36e-10\n",
      "Intercept            0.3407      0.008     43.242      0.000       0.324       0.357\n",
      "==============================================================================\n",
      "Omnibus:                        0.564   Durbin-Watson:                   0.355\n",
      "Prob(Omnibus):                  0.754   Jarque-Bera (JB):                0.622\n",
      "Skew:                           0.133   Prob(JB):                        0.733\n",
      "Kurtosis:                       2.220   Cond. No.                     6.51e+07\n",
      "==============================================================================\n",
      "\n",
      "Warnings:\n",
      "[1] Standard Errors assume that the covariance matrix of the errors is correctly specified.\n",
      "[2] The condition number is large, 6.51e+07. This might indicate that there are\n",
      "strong multicollinearity or other numerical problems.\n"
     ]
    }
   ],
   "source": [
    "fit_2 = sm.OLS(y, X.drop(['trend','Government','Income Index Lag 1'], axis = 1)).fit()\n",
    "\n",
    "# Inspect the results\n",
    "print(fit_2.summary())"
   ]
  },
  {
   "cell_type": "markdown",
   "metadata": {},
   "source": [
    "Conclusion \n",
    "* Using Goverment funding from the previous year, to predict Income Index performance in the current year, the predictive power (R squared) is only 0.417, indicating that Goverment funding is not a strong predictor of Income Index performance"
   ]
  },
  {
   "cell_type": "code",
   "execution_count": 67,
   "metadata": {},
   "outputs": [
    {
     "data": {
      "text/plain": [
       "(array([2., 1., 3., 2., 2., 7., 0., 1., 1., 3.]),\n",
       " array([-0.04776896, -0.03796204, -0.02815512, -0.01834821, -0.00854129,\n",
       "         0.00126563,  0.01107254,  0.02087946,  0.03068638,  0.0404933 ,\n",
       "         0.05030021]),\n",
       " <a list of 10 Patch objects>)"
      ]
     },
     "execution_count": 67,
     "metadata": {},
     "output_type": "execute_result"
    },
    {
     "data": {
      "image/png": "[encoded data removed]",
      "text/plain": [
       "<Figure size 432x288 with 1 Axes>"
      ]
     },
     "metadata": {},
     "output_type": "display_data"
    }
   ],
   "source": [
    "plt.hist(fit_2.resid)"
   ]
  }
 ],
 "metadata": {
  "kernelspec": {
   "display_name": "Python 3",
   "language": "python",
   "name": "python3"
  },
  "language_info": {
   "codemirror_mode": {
    "name": "ipython",
    "version": 3
   },
   "file_extension": ".py",
   "mimetype": "text/x-python",
   "name": "python",
   "nbconvert_exporter": "python",
   "pygments_lexer": "ipython3",
   "version": "3.6.6"
  }
 },
 "nbformat": 4,
 "nbformat_minor": 2
}
